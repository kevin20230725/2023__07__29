{
 "cells": [
  {
   "cell_type": "code",
   "execution_count": 2,
   "metadata": {},
   "outputs": [
    {
     "name": "stdout",
     "output_type": "stream",
     "text": [
      "國文:78，英文:89，數學:92\n"
     ]
    }
   ],
   "source": [
    "#參數沒有defult值，呼叫時都要輸入值\n",
    "def score(chinese,english,math):\n",
    "  print(f\"國文:{chinese}，英文:{english}，數學:{math}\")\n",
    "\n",
    "score(78,89,math=92)"
   ]
  },
  {
   "cell_type": "code",
   "execution_count": 3,
   "metadata": {},
   "outputs": [
    {
     "name": "stdout",
     "output_type": "stream",
     "text": [
      "國文:89，英文:60，數學:60\n",
      "國文:90，英文:60，數學:89\n",
      "國文:90，英文:45，數學:89\n",
      "國文:89，英文:99，數學:99\n"
     ]
    }
   ],
   "source": [
    "#參數有defult值時，一定要放在最後，參數空幾個就要填幾個，\n",
    "def score1(chinese,english=60,math=60):\n",
    "  print(f\"國文:{chinese}，英文:{english}，數學:{math}\")\n",
    "\n",
    "score1(89)\n",
    "score1(90,math=89)\n",
    "score1(90,math=89,english=45)\n",
    "score1(89,99,99)"
   ]
  },
  {
   "cell_type": "code",
   "execution_count": 4,
   "metadata": {},
   "outputs": [
    {
     "name": "stdout",
     "output_type": "stream",
     "text": [
      "1到100之間的質數有:\n",
      "2 3 5 7 11 13 17 19 23 29 31 37 41 43 47 53 59 61 67 71 73 79 83 89 97 "
     ]
    }
   ],
   "source": [
    "#判斷找出2到輸入範圍之間的質數\n",
    "def print_prime(first,end):       \n",
    "  print(f\"{first}到{end}之間的質數有:\")\n",
    "  if first < 2:   #避免使用者輸入1或負數的情況\n",
    "    first = 2\n",
    "  for num in range(first,end+1):\n",
    "    is_prime = True\n",
    "    for i in range(2,num):\n",
    "      if num % i == 0 :\n",
    "        is_prime = False\n",
    "    if is_prime:    #經過迴圈判斷後，若is_prime仍為True則為質數，並輸出\n",
    "      print(f\"{num}\",end=' ')   #輸出後以空格結尾，並執行新的迴圈，直到結束\n",
    "\n",
    "\n",
    "f = int(input(\"請輸入起始值:\"))\n",
    "e = int(input(\"請輸入終點值:\"))\n",
    "print_prime(f,e)"
   ]
  },
  {
   "cell_type": "code",
   "execution_count": 5,
   "metadata": {},
   "outputs": [
    {
     "name": "stdout",
     "output_type": "stream",
     "text": [
      "400\n"
     ]
    }
   ],
   "source": [
    "def add(first,second):\n",
    "  return first + second   #return結束後跳出迴圈，之後的程式碼不跑\n",
    "\n",
    "total = add(150,250)\n",
    "print(total)"
   ]
  },
  {
   "cell_type": "code",
   "execution_count": 6,
   "metadata": {},
   "outputs": [
    {
     "name": "stdout",
     "output_type": "stream",
     "text": [
      "23\n"
     ]
    }
   ],
   "source": [
    "#python3.7 版本就有支援\n",
    "#參數和傳出值的型別的提醒\n",
    "#只是提醒，可有可無\n",
    "\n",
    "def add1(first : int,second : int) -> int:\n",
    "  return first + second   #return結束後跳出迴圈，之後的程式碼不跑\n",
    "\n",
    "total1 = add1(8,15)\n",
    "print(total1)"
   ]
  },
  {
   "cell_type": "code",
   "execution_count": 7,
   "metadata": {},
   "outputs": [
    {
     "name": "stdout",
     "output_type": "stream",
     "text": [
      "23.7\n"
     ]
    }
   ],
   "source": [
    "def add2(first:int|float ,second:int|float) -> int|float:\n",
    "  return first + second\n",
    "\n",
    "total2 = add2(8.7,15)\n",
    "print(total2)"
   ]
  },
  {
   "cell_type": "code",
   "execution_count": 1,
   "metadata": {},
   "outputs": [
    {
     "name": "stdout",
     "output_type": "stream",
     "text": [
      "1 2 3 4 a b c 49.8 3.6\n",
      "1-2-3-4-a-b-c-49.8-3.6\n",
      "1 * 2 * 3 * 4 * a * b * c * 49.8 * 3.6。\n"
     ]
    }
   ],
   "source": [
    "print(1,2,3,4,\"a\",\"b\",\"c\",49.8,3.6)\n",
    "print(1,2,3,4,\"a\",\"b\",\"c\",49.8,3.6,sep=\"-\")\n",
    "print(1,2,3,4,\"a\",\"b\",\"c\",49.8,3.6,sep=\" * \",end=\"。\\n\")"
   ]
  }
 ],
 "metadata": {
  "kernelspec": {
   "display_name": "Python 3",
   "language": "python",
   "name": "python3"
  },
  "language_info": {
   "codemirror_mode": {
    "name": "ipython",
    "version": 3
   },
   "file_extension": ".py",
   "mimetype": "text/x-python",
   "name": "python",
   "nbconvert_exporter": "python",
   "pygments_lexer": "ipython3",
   "version": "3.10.13"
  }
 },
 "nbformat": 4,
 "nbformat_minor": 2
}
