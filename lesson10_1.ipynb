{
 "cells": [
  {
   "cell_type": "code",
   "execution_count": 16,
   "metadata": {},
   "outputs": [],
   "source": [
    "#開啟文件\n",
    "file = open(\"names (1).txt\",encoding=\"utf-8\")\n",
    "names = file.read()\n",
    "file.close()"
   ]
  },
  {
   "cell_type": "code",
   "execution_count": 14,
   "metadata": {},
   "outputs": [],
   "source": [
    "with open(\"names (1).txt\",encoding=\"utf-8\") as file:\n",
    "    names = file.read()\n",
    "names_list = names.split(\"\\n\")\n"
   ]
  },
  {
   "cell_type": "code",
   "execution_count": 15,
   "metadata": {},
   "outputs": [
    {
     "data": {
      "text/plain": [
       "(['陳怡伶', '馮芳如', '蒙淑惠', '張軒宸', '陳向愛'], ['李淑芳', '謝南慧', '趙家豪', '龐皓芳', '張彥博'], 299)"
      ]
     },
     "execution_count": 15,
     "metadata": {},
     "output_type": "execute_result"
    }
   ],
   "source": [
    "names_list[:5],names_list[-5:],len(names_list)"
   ]
  },
  {
   "cell_type": "code",
   "execution_count": 21,
   "metadata": {},
   "outputs": [
    {
     "data": {
      "text/plain": [
       "True"
      ]
     },
     "execution_count": 21,
     "metadata": {},
     "output_type": "execute_result"
    }
   ],
   "source": [
    "with open(\"names (1).txt\",encoding=\"utf-8\") as file:\n",
    "    names_list = []\n",
    "    for line in file:\n",
    "        names_list.append(line[:3])     #去除\\n\n",
    "names_list          #輸出\n",
    "file.closed         #屬性!!!檢驗檔案是否關閉"
   ]
  },
  {
   "cell_type": "code",
   "execution_count": 46,
   "metadata": {},
   "outputs": [
    {
     "name": "stdout",
     "output_type": "stream",
     "text": [
      "陳怡伶\n",
      "陳佳慧\n",
      "陳泓泰\n",
      "陳淑真\n",
      "陳耿琦\n",
      "陳建勳\n"
     ]
    }
   ],
   "source": [
    "import random\n",
    "first_name = input(\"請輸入你的姓氏:\")\n",
    "count = eval(input(\"請輸入您要的名字數量\"))\n",
    "random_list = random.choices(names_list,k = count)\n",
    "for name in random_list :\n",
    "    print(first_name+name[-2:])"
   ]
  }
 ],
 "metadata": {
  "kernelspec": {
   "display_name": "Python 3",
   "language": "python",
   "name": "python3"
  },
  "language_info": {
   "codemirror_mode": {
    "name": "ipython",
    "version": 3
   },
   "file_extension": ".py",
   "mimetype": "text/x-python",
   "name": "python",
   "nbconvert_exporter": "python",
   "pygments_lexer": "ipython3",
   "version": "3.10.11"
  }
 },
 "nbformat": 4,
 "nbformat_minor": 2
}
