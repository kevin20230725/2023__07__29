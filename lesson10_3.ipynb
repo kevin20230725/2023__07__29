{
 "cells": [
  {
   "cell_type": "code",
   "execution_count": 1,
   "metadata": {},
   "outputs": [
    {
     "data": {
      "text/plain": [
       "([20, 40, 60, 80, 90], [10, 30, 50, 70, 90], [25, 55, 65, 85, 95])"
      ]
     },
     "execution_count": 1,
     "metadata": {},
     "output_type": "execute_result"
    }
   ],
   "source": [
    "#2維list\n",
    "students = [[20,40,60,80,90],\n",
    "            [10,30,50,70,90],\n",
    "            [25,55,65,85,95]]\n",
    "students[0],students[1],students[2]"
   ]
  },
  {
   "cell_type": "code",
   "execution_count": 2,
   "metadata": {},
   "outputs": [
    {
     "name": "stdout",
     "output_type": "stream",
     "text": [
      "[20, 40, 60, 80, 90]\n",
      "[10, 30, 50, 70, 90]\n",
      "[25, 55, 65, 85, 95]\n"
     ]
    }
   ],
   "source": [
    "for student in students:\n",
    "    print(student)"
   ]
  },
  {
   "cell_type": "code",
   "execution_count": 6,
   "metadata": {},
   "outputs": [
    {
     "data": {
      "text/plain": [
       "[[77, 79, 60, 51, 74],\n",
       " [80, 51, 89, 64, 64],\n",
       " [56, 71, 56, 57, 67],\n",
       " [65, 81, 55, 51, 99],\n",
       " [87, 98, 84, 67, 80],\n",
       " [89, 94, 84, 61, 100],\n",
       " [92, 59, 100, 84, 75],\n",
       " [57, 58, 92, 100, 67],\n",
       " [83, 82, 91, 93, 94],\n",
       " [76, 76, 95, 58, 92],\n",
       " [94, 64, 55, 58, 65],\n",
       " [64, 74, 67, 72, 75],\n",
       " [83, 54, 50, 99, 70],\n",
       " [90, 67, 67, 87, 50],\n",
       " [63, 77, 96, 89, 96],\n",
       " [78, 93, 70, 54, 80],\n",
       " [76, 78, 51, 87, 76],\n",
       " [91, 77, 70, 92, 95],\n",
       " [69, 89, 72, 87, 55],\n",
       " [60, 66, 96, 50, 53],\n",
       " [76, 58, 76, 71, 90],\n",
       " [82, 59, 83, 74, 67],\n",
       " [77, 66, 80, 82, 52],\n",
       " [68, 56, 74, 70, 78],\n",
       " [84, 68, 78, 55, 51],\n",
       " [75, 65, 95, 98, 82],\n",
       " [89, 78, 59, 84, 85],\n",
       " [91, 65, 93, 96, 60],\n",
       " [96, 69, 59, 52, 73],\n",
       " [89, 81, 78, 74, 57],\n",
       " [68, 100, 94, 75, 67],\n",
       " [67, 60, 64, 100, 65],\n",
       " [87, 57, 85, 65, 58],\n",
       " [54, 78, 89, 54, 60],\n",
       " [77, 59, 64, 89, 94],\n",
       " [65, 51, 55, 71, 73],\n",
       " [76, 89, 70, 91, 74],\n",
       " [74, 68, 92, 61, 50],\n",
       " [55, 99, 88, 100, 58],\n",
       " [89, 57, 89, 53, 100],\n",
       " [64, 74, 56, 68, 82],\n",
       " [88, 65, 77, 69, 93],\n",
       " [60, 93, 57, 53, 89],\n",
       " [86, 78, 66, 69, 70],\n",
       " [90, 67, 88, 69, 92],\n",
       " [86, 83, 52, 57, 71],\n",
       " [67, 64, 69, 88, 69],\n",
       " [62, 50, 84, 51, 72],\n",
       " [59, 55, 94, 93, 84],\n",
       " [74, 75, 94, 93, 94]]"
      ]
     },
     "execution_count": 6,
     "metadata": {},
     "output_type": "execute_result"
    }
   ],
   "source": [
    "import random\n",
    "def get_score() -> list:\n",
    "    score = []\n",
    "    for i in range(5):\n",
    "        score.append(random.randint(50,100))\n",
    "    return score\n",
    "\n",
    "student = []\n",
    "for i in range(50):\n",
    "    score = get_score()\n",
    "    student.append(score)\n",
    "student\n",
    "\n"
   ]
  }
 ],
 "metadata": {
  "kernelspec": {
   "display_name": "Python 3",
   "language": "python",
   "name": "python3"
  },
  "language_info": {
   "codemirror_mode": {
    "name": "ipython",
    "version": 3
   },
   "file_extension": ".py",
   "mimetype": "text/x-python",
   "name": "python",
   "nbconvert_exporter": "python",
   "pygments_lexer": "ipython3",
   "version": "3.10.11"
  }
 },
 "nbformat": 4,
 "nbformat_minor": 2
}
