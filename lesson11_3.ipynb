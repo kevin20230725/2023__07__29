{
 "cells": [
  {
   "cell_type": "code",
   "execution_count": 3,
   "metadata": {},
   "outputs": [],
   "source": [
    "import random\n",
    "def get_score() -> list:\n",
    "    score = []\n",
    "    for i in range(5):\n",
    "        score.append(random.randint(50,100))\n",
    "    return score\n",
    "\n",
    "#取得30個姓名\n",
    "def get_names(num:int) -> list: \n",
    "    with open(\"names (1).txt\",encoding=\"utf-8\",newline='') as file:\n",
    "        names_str = file.read()\n",
    "        all_names_list = names_str.split(\"\\n\")      #將字串中的'\\n'作為分割，形成一個list\n",
    "        names_list = random.choices(all_names_list,k=num)\n",
    "    return names_list"
   ]
  },
  {
   "cell_type": "code",
   "execution_count": 6,
   "metadata": {},
   "outputs": [
    {
     "data": {
      "text/plain": [
       "[['陳樂紫', 64, 65, 58, 55, 99],\n",
       " ['唐翊修', 57, 63, 62, 95, 80],\n",
       " ['李慈啟', 92, 52, 54, 78, 99],\n",
       " ['張凡成', 67, 62, 83, 74, 80],\n",
       " ['鄭淑珍', 75, 83, 98, 92, 77],\n",
       " ['簡國瑋', 53, 59, 81, 86, 61],\n",
       " ['羅佩樺', 73, 57, 51, 92, 74],\n",
       " ['黃必琪', 88, 51, 77, 85, 52],\n",
       " ['黃靜怡', 96, 84, 53, 71, 96],\n",
       " ['張婕妤', 100, 55, 70, 60, 57],\n",
       " ['唐雪豪', 77, 54, 65, 77, 57],\n",
       " ['劉旭士', 66, 83, 50, 56, 74],\n",
       " ['王筱婷', 69, 100, 55, 93, 89],\n",
       " ['聶心怡', 95, 79, 81, 75, 59],\n",
       " ['鞠冠宇', 86, 82, 68, 59, 50],\n",
       " ['陳志偉', 78, 84, 73, 87, 75],\n",
       " ['童建霖', 86, 53, 51, 88, 68],\n",
       " ['藍哲嘉', 81, 99, 67, 99, 55],\n",
       " ['馮淑芬', 56, 81, 66, 84, 87],\n",
       " ['黃雅慧', 84, 91, 59, 87, 90],\n",
       " ['李慈啟', 65, 59, 52, 77, 96],\n",
       " ['陳淑娟', 94, 78, 87, 60, 97],\n",
       " ['王明昇', 62, 55, 85, 78, 70],\n",
       " ['童建霖', 51, 73, 91, 60, 83],\n",
       " ['李彥伸', 83, 57, 51, 79, 92],\n",
       " ['陳建香', 52, 87, 73, 67, 79],\n",
       " ['郭坤花', 98, 54, 59, 97, 86],\n",
       " ['郭淑枝', 69, 95, 83, 62, 51],\n",
       " ['陳慧君', 98, 99, 70, 79, 79],\n",
       " ['沈心利', 93, 70, 92, 69, 61],\n",
       " ['林向鈺', 63, 61, 61, 78, 93],\n",
       " ['吳志宣', 93, 65, 84, 53, 79],\n",
       " ['楊易政', 65, 65, 66, 89, 53],\n",
       " ['林士凱', 69, 57, 51, 89, 86],\n",
       " ['劉雯芬', 66, 57, 55, 100, 57],\n",
       " ['趙家豪', 82, 85, 52, 63, 77],\n",
       " ['潘英迪', 57, 99, 93, 93, 78],\n",
       " ['黃嘉琪', 77, 81, 89, 87, 55],\n",
       " ['姜琬婷', 60, 88, 75, 57, 83],\n",
       " ['陳怡珊', 87, 53, 90, 68, 98],\n",
       " ['賴苑禾', 74, 65, 83, 52, 68],\n",
       " ['臧怡君', 53, 59, 90, 83, 53],\n",
       " ['白美珍', 91, 71, 57, 83, 60],\n",
       " ['郭淑枝', 96, 92, 81, 86, 71],\n",
       " ['胡淑貞', 79, 63, 84, 71, 89],\n",
       " ['金宜芳', 80, 62, 59, 97, 94],\n",
       " ['劉慧君', 78, 60, 73, 55, 61],\n",
       " ['黃翔杰', 63, 78, 93, 73, 81],\n",
       " ['黃善迪', 53, 80, 51, 80, 72],\n",
       " ['黃心航', 78, 78, 71, 89, 65]]"
      ]
     },
     "execution_count": 6,
     "metadata": {},
     "output_type": "execute_result"
    }
   ],
   "source": [
    "nums_list = int(input(\"請輸入學生數量:\"))\n",
    "#取得nums_list個名字\n",
    "names_list = get_names(nums_list)\n",
    "\n",
    "\n",
    "\n",
    "student = []\n",
    "for i in range(nums_list):\n",
    "    score = get_score()\n",
    "    new_list = [names_list[i]] + score\n",
    "    student.append(new_list)\n",
    "student"
   ]
  },
  {
   "cell_type": "code",
   "execution_count": 9,
   "metadata": {},
   "outputs": [
    {
     "name": "stdout",
     "output_type": "stream",
     "text": [
      "存檔成功\n"
     ]
    }
   ],
   "source": [
    "import csv\n",
    "#將2為list儲存為csv檔\n",
    "file_name = input(\"請輸入檔案名稱(csv):\")\n",
    "with open(f\"{file_name}.csv\",mode='w',encoding='utf-8',newline='') as file:\n",
    "    csv_writer = csv.writer(file)       #將csv檔寫入目的為file\n",
    "    csv_writer.writerow([\"姓名\",'國文','英文','數學','地理','歷史'])\n",
    "    csv_writer.writerows(student)       #寫入內容為student\n",
    "\n",
    "print(\"存檔成功\")"
   ]
  }
 ],
 "metadata": {
  "kernelspec": {
   "display_name": "Python 3",
   "language": "python",
   "name": "python3"
  },
  "language_info": {
   "codemirror_mode": {
    "name": "ipython",
    "version": 3
   },
   "file_extension": ".py",
   "mimetype": "text/x-python",
   "name": "python",
   "nbconvert_exporter": "python",
   "pygments_lexer": "ipython3",
   "version": "3.10.13"
  }
 },
 "nbformat": 4,
 "nbformat_minor": 2
}
