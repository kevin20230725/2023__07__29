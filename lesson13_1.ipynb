{
 "cells": [
  {
   "cell_type": "code",
   "execution_count": 4,
   "metadata": {},
   "outputs": [],
   "source": [
    "class Student:\n",
    "    def __init__(self,name:str,chinese:int,english:int,math:int) -> None:   #第一個參數self可省略\n",
    "        #實體的attribute\n",
    "        self.name = name\n",
    "        self.chinese = chinese\n",
    "        self.english = english\n",
    "        self.math = math\n",
    "\n",
    "    #實體的方法(method)\n",
    "    def total(self)->int:\n",
    "        return self.chinese + self.english + self.math\n",
    "    \n",
    "    #建立property -> 類似method,沒有參數,一定傳出一個值\n",
    "    #呼叫方法類似attribute      self.average\n",
    "    @property\n",
    "    def average(self)->float:\n",
    "        return self.total() / 3.0\n",
    "\n",
    "    #定義print輸出顯示的資料\n",
    "    def __repr__(self) -> str:\n",
    "        return f\"這是Student的實體，我的name是:{self.name}\""
   ]
  },
  {
   "cell_type": "code",
   "execution_count": 6,
   "metadata": {},
   "outputs": [
    {
     "data": {
      "text/plain": [
       "('陳楷仁', 90, 95, 100)"
      ]
     },
     "metadata": {},
     "output_type": "display_data"
    },
    {
     "data": {
      "text/plain": [
       "(285, 95.0)"
      ]
     },
     "metadata": {},
     "output_type": "display_data"
    },
    {
     "name": "stdout",
     "output_type": "stream",
     "text": [
      "這是Student的實體，我的name是:陳楷仁\n"
     ]
    }
   ],
   "source": [
    "stu1 = Student('陳楷仁',90,95,100)\n",
    "#建立屬性(attribute)\n",
    "display((stu1.name ,stu1.chinese,stu1.english,stu1.math))\n",
    "display((stu1.total() , stu1.average))\n",
    "print(stu1)\n"
   ]
  },
  {
   "cell_type": "code",
   "execution_count": 10,
   "metadata": {},
   "outputs": [
    {
     "data": {
      "text/plain": [
       "('黃xx', 95, 95, 95)"
      ]
     },
     "metadata": {},
     "output_type": "display_data"
    },
    {
     "data": {
      "text/plain": [
       "(285, 95.0)"
      ]
     },
     "execution_count": 10,
     "metadata": {},
     "output_type": "execute_result"
    }
   ],
   "source": [
    "stu2 = Student(name='黃xx',chinese=95,english=95,math=95)\n",
    "#建立屬性(attribute)\n",
    "#stu2.name = '黃xx'\n",
    "#stu2.chinese = 99\n",
    "#stu2.english = 98\n",
    "#stu2.math = 95\n",
    "display((stu2.name ,stu2.chinese,stu2.english,stu2.math))\n",
    "stu2.total() , stu2.average"
   ]
  },
  {
   "cell_type": "code",
   "execution_count": 11,
   "metadata": {},
   "outputs": [
    {
     "data": {
      "text/plain": [
       "('王xx', 95, 100, 88)"
      ]
     },
     "metadata": {},
     "output_type": "display_data"
    },
    {
     "data": {
      "text/plain": [
       "(283, 94.33333333333333)"
      ]
     },
     "execution_count": 11,
     "metadata": {},
     "output_type": "execute_result"
    }
   ],
   "source": [
    "stu3 = Student(\"王xx\",english=100,chinese=95,math=88)\n",
    "display((stu3.name ,stu3.chinese,stu3.english,stu3.math))\n",
    "stu3.total() , stu3.average"
   ]
  }
 ],
 "metadata": {
  "kernelspec": {
   "display_name": "Python 3",
   "language": "python",
   "name": "python3"
  },
  "language_info": {
   "codemirror_mode": {
    "name": "ipython",
    "version": 3
   },
   "file_extension": ".py",
   "mimetype": "text/x-python",
   "name": "python",
   "nbconvert_exporter": "python",
   "pygments_lexer": "ipython3",
   "version": "3.10.13"
  }
 },
 "nbformat": 4,
 "nbformat_minor": 2
}
