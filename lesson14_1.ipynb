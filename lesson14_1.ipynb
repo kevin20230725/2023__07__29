{
 "cells": [
  {
   "cell_type": "code",
   "execution_count": 15,
   "metadata": {},
   "outputs": [
    {
     "name": "stdout",
     "output_type": "stream",
     "text": [
      "下載成功\n"
     ]
    }
   ],
   "source": [
    "#寫程式下載檔案\n",
    "#json為純文字，複雜\n",
    "import requests\n",
    "url = 'https://opendata.cwa.gov.tw/fileapi/v1/opendataapi/F-C0032-001?Authorization=rdec-key-123-45678-011121314&format=JSON'\n",
    "r = requests.get(url)\n",
    "if r.status_code == 200:        #r.status_code == 200 檔案正常\n",
    "    print(\"下載成功\")"
   ]
  },
  {
   "cell_type": "code",
   "execution_count": 7,
   "metadata": {},
   "outputs": [
    {
     "name": "stdout",
     "output_type": "stream",
     "text": [
      "{\n",
      " \"cwaopendata\": {\n",
      "  \"@xmlns\": \"urn:cwa:gov:tw:cwacommon:0.1\",\n",
      "  \"identifier\": \"dfb4fdc7-d5b3-1b17-24ab-45c0c5afdc80\",\n",
      "  \"sender\": \"weather@cwa.gov.tw\",\n",
      "  \"sent\": \"2024-02-14T17:00:42+08:00\",\n",
      "  \"status\": \"Actual\",\n",
      "  \"msgType\": \"Issue\",\n",
      "  \"scope\": \"Public\",\n",
      "  \"dataid\": \"F-C0032-009\",\n",
      "  \"source\": \"Weather Forecast Center\",\n",
      "  \"dataset\": {\n",
      "   \"datasetInfo\": {\n",
      "    \"datasetDescription\": \"WeatherAssistant\",\n",
      "    \"datasetLanguage\": \"zh-TW\",\n",
      "    \"issueTime\": \"2024-02-14T17:00:38+08:00\"\n",
      "   },\n",
      "   \"location\": {\n",
      "    \"locationName\": \"台北市\",\n",
      "    \"stationId\": \"46692\",\n",
      "    \"geocode\": \"63\"\n",
      "   },\n",
      "   \"parameterSet\": {\n",
      "    \"parameterSetName\": \"天氣小幫手描述\",\n",
      "    \"parameter\": [\n",
      "     {\n",
      "      \"parameterValue\": \"白天晴到多雲，晚起鋒面通過及東北季風增強，轉為局部短暫雨的天氣\"\n",
      "     },\n",
      "     {\n",
      "      \"parameterValue\": \"今天（14日）清晨輻射冷卻影響，天氣偏冷，白天氣溫回升，大多為晴到多雲的天氣；在溫度方面，日夜溫差大，臺北站測得低溫14.1度，高溫26.7度。\"\n",
      "     },\n",
      "     {\n",
      "      \"parameterValue\": \"明天（15日）清晨天氣仍偏冷，白天氣溫回升，大多為晴到多雲的天氣型態，晚起鋒面通過及東北季風增強，轉為局部短暫雨的天氣；預測平地氣溫約15-28度，日夜溫差大，請留意溫度變化適時增減衣物。\"\n",
      "     }\n",
      "    ]\n",
      "   }\n",
      "  }\n",
      " }\n",
      "}\n"
     ]
    }
   ],
   "source": [
    "#json 結構的文字檔\n",
    "print(r.text)"
   ]
  },
  {
   "cell_type": "code",
   "execution_count": 16,
   "metadata": {},
   "outputs": [
    {
     "data": {
      "text/plain": [
       "dict"
      ]
     },
     "execution_count": 16,
     "metadata": {},
     "output_type": "execute_result"
    }
   ],
   "source": [
    "#轉成python 的資料結構\n",
    "r.json()\n",
    "type(r.json())"
   ]
  },
  {
   "cell_type": "code",
   "execution_count": 29,
   "metadata": {},
   "outputs": [
    {
     "name": "stdout",
     "output_type": "stream",
     "text": [
      "[{'locationName': '臺北市', 'weatherElement': [{'elementName': 'Wx', 'time': [{'startTime': '2024-02-15T00:00:00+08:00', 'endTime': '2024-02-15T06:00:00+08:00', 'parameter': {'parameterName': '晴時多雲', 'parameterValue': '2'}}, {'startTime': '2024-02-15T06:00:00+08:00', 'endTime': '2024-02-15T18:00:00+08:00', 'parameter': {'parameterName': '晴時多雲', 'parameterValue': '2'}}, {'startTime': '2024-02-15T18:00:00+08:00', 'endTime': '2024-02-16T06:00:00+08:00', 'parameter': {'parameterName': '陰時多雲短暫雨', 'parameterValue': '10'}}]}, {'elementName': 'MaxT', 'time': [{'startTime': '2024-02-15T00:00:00+08:00', 'endTime': '2024-02-15T06:00:00+08:00', 'parameter': {'parameterName': '18', 'parameterUnit': 'C'}}, {'startTime': '2024-02-15T06:00:00+08:00', 'endTime': '2024-02-15T18:00:00+08:00', 'parameter': {'parameterName': '28', 'parameterUnit': 'C'}}, {'startTime': '2024-02-15T18:00:00+08:00', 'endTime': '2024-02-16T06:00:00+08:00', 'parameter': {'parameterName': '21', 'parameterUnit': 'C'}}]}, {'elementName': 'MinT', 'time': [{'startTime': '2024-02-15T00:00:00+08:00', 'endTime': '2024-02-15T06:00:00+08:00', 'parameter': {'parameterName': '15', 'parameterUnit': 'C'}}, {'startTime': '2024-02-15T06:00:00+08:00', 'endTime': '2024-02-15T18:00:00+08:00', 'parameter': {'parameterName': '15', 'parameterUnit': 'C'}}, {'startTime': '2024-02-15T18:00:00+08:00', 'endTime': '2024-02-16T06:00:00+08:00', 'parameter': {'parameterName': '15', 'parameterUnit': 'C'}}]}, {'elementName': 'CI', 'time': [{'startTime': '2024-02-15T00:00:00+08:00', 'endTime': '2024-02-15T06:00:00+08:00', 'parameter': {'parameterName': '寒冷至稍有寒意'}}, {'startTime': '2024-02-15T06:00:00+08:00', 'endTime': '2024-02-15T18:00:00+08:00', 'parameter': {'parameterName': '寒冷至舒適'}}, {'startTime': '2024-02-15T18:00:00+08:00', 'endTime': '2024-02-16T06:00:00+08:00', 'parameter': {'parameterName': '寒冷至舒適'}}]}, {'elementName': 'PoP', 'time': [{'startTime': '2024-02-15T00:00:00+08:00', 'endTime': '2024-02-15T06:00:00+08:00', 'parameter': {'parameterName': '0', 'parameterUnit': '百分比'}}, {'startTime': '2024-02-15T06:00:00+08:00', 'endTime': '2024-02-15T18:00:00+08:00', 'parameter': {'parameterName': '20', 'parameterUnit': '百分比'}}, {'startTime': '2024-02-15T18:00:00+08:00', 'endTime': '2024-02-16T06:00:00+08:00', 'parameter': {'parameterName': '30', 'parameterUnit': '百分比'}}]}]}, {'locationName': '新北市', 'weatherElement': [{'elementName': 'Wx', 'time': [{'startTime': '2024-02-15T00:00:00+08:00', 'endTime': '2024-02-15T06:00:00+08:00', 'parameter': {'parameterName': '晴時多雲', 'parameterValue': '2'}}, {'startTime': '2024-02-15T06:00:00+08:00', 'endTime': '2024-02-15T18:00:00+08:00', 'parameter': {'parameterName': '晴時多雲', 'parameterValue': '2'}}, {'startTime': '2024-02-15T18:00:00+08:00', 'endTime': '2024-02-16T06:00:00+08:00', 'parameter': {'parameterName': '陰時多雲短暫雨', 'parameterValue': '10'}}]}, {'elementName': 'MaxT', 'time': [{'startTime': '2024-02-15T00:00:00+08:00', 'endTime': '2024-02-15T06:00:00+08:00', 'parameter': {'parameterName': '17', 'parameterUnit': 'C'}}, {'startTime': '2024-02-15T06:00:00+08:00', 'endTime': '2024-02-15T18:00:00+08:00', 'parameter': {'parameterName': '27', 'parameterUnit': 'C'}}, {'startTime': '2024-02-15T18:00:00+08:00', 'endTime': '2024-02-16T06:00:00+08:00', 'parameter': {'parameterName': '21', 'parameterUnit': 'C'}}]}, {'elementName': 'MinT', 'time': [{'startTime': '2024-02-15T00:00:00+08:00', 'endTime': '2024-02-15T06:00:00+08:00', 'parameter': {'parameterName': '14', 'parameterUnit': 'C'}}, {'startTime': '2024-02-15T06:00:00+08:00', 'endTime': '2024-02-15T18:00:00+08:00', 'parameter': {'parameterName': '14', 'parameterUnit': 'C'}}, {'startTime': '2024-02-15T18:00:00+08:00', 'endTime': '2024-02-16T06:00:00+08:00', 'parameter': {'parameterName': '15', 'parameterUnit': 'C'}}]}, {'elementName': 'CI', 'time': [{'startTime': '2024-02-15T00:00:00+08:00', 'endTime': '2024-02-15T06:00:00+08:00', 'parameter': {'parameterName': '寒冷至稍有寒意'}}, {'startTime': '2024-02-15T06:00:00+08:00', 'endTime': '2024-02-15T18:00:00+08:00', 'parameter': {'parameterName': '寒冷至舒適'}}, {'startTime': '2024-02-15T18:00:00+08:00', 'endTime': '2024-02-16T06:00:00+08:00', 'parameter': {'parameterName': '寒冷至舒適'}}]}, {'elementName': 'PoP', 'time': [{'startTime': '2024-02-15T00:00:00+08:00', 'endTime': '2024-02-15T06:00:00+08:00', 'parameter': {'parameterName': '0', 'parameterUnit': '百分比'}}, {'startTime': '2024-02-15T06:00:00+08:00', 'endTime': '2024-02-15T18:00:00+08:00', 'parameter': {'parameterName': '20', 'parameterUnit': '百分比'}}, {'startTime': '2024-02-15T18:00:00+08:00', 'endTime': '2024-02-16T06:00:00+08:00', 'parameter': {'parameterName': '60', 'parameterUnit': '百分比'}}]}]}, {'locationName': '桃園市', 'weatherElement': [{'elementName': 'Wx', 'time': [{'startTime': '2024-02-15T00:00:00+08:00', 'endTime': '2024-02-15T06:00:00+08:00', 'parameter': {'parameterName': '晴時多雲', 'parameterValue': '2'}}, {'startTime': '2024-02-15T06:00:00+08:00', 'endTime': '2024-02-15T18:00:00+08:00', 'parameter': {'parameterName': '晴時多雲', 'parameterValue': '2'}}, {'startTime': '2024-02-15T18:00:00+08:00', 'endTime': '2024-02-16T06:00:00+08:00', 'parameter': {'parameterName': '陰時多雲短暫雨', 'parameterValue': '10'}}]}, {'elementName': 'MaxT', 'time': [{'startTime': '2024-02-15T00:00:00+08:00', 'endTime': '2024-02-15T06:00:00+08:00', 'parameter': {'parameterName': '17', 'parameterUnit': 'C'}}, {'startTime': '2024-02-15T06:00:00+08:00', 'endTime': '2024-02-15T18:00:00+08:00', 'parameter': {'parameterName': '27', 'parameterUnit': 'C'}}, {'startTime': '2024-02-15T18:00:00+08:00', 'endTime': '2024-02-16T06:00:00+08:00', 'parameter': {'parameterName': '20', 'parameterUnit': 'C'}}]}, {'elementName': 'MinT', 'time': [{'startTime': '2024-02-15T00:00:00+08:00', 'endTime': '2024-02-15T06:00:00+08:00', 'parameter': {'parameterName': '15', 'parameterUnit': 'C'}}, {'startTime': '2024-02-15T06:00:00+08:00', 'endTime': '2024-02-15T18:00:00+08:00', 'parameter': {'parameterName': '14', 'parameterUnit': 'C'}}, {'startTime': '2024-02-15T18:00:00+08:00', 'endTime': '2024-02-16T06:00:00+08:00', 'parameter': {'parameterName': '14', 'parameterUnit': 'C'}}]}, {'elementName': 'CI', 'time': [{'startTime': '2024-02-15T00:00:00+08:00', 'endTime': '2024-02-15T06:00:00+08:00', 'parameter': {'parameterName': '寒冷至稍有寒意'}}, {'startTime': '2024-02-15T06:00:00+08:00', 'endTime': '2024-02-15T18:00:00+08:00', 'parameter': {'parameterName': '寒冷至舒適'}}, {'startTime': '2024-02-15T18:00:00+08:00', 'endTime': '2024-02-16T06:00:00+08:00', 'parameter': {'parameterName': '寒冷至稍有寒意'}}]}, {'elementName': 'PoP', 'time': [{'startTime': '2024-02-15T00:00:00+08:00', 'endTime': '2024-02-15T06:00:00+08:00', 'parameter': {'parameterName': '0', 'parameterUnit': '百分比'}}, {'startTime': '2024-02-15T06:00:00+08:00', 'endTime': '2024-02-15T18:00:00+08:00', 'parameter': {'parameterName': '20', 'parameterUnit': '百分比'}}, {'startTime': '2024-02-15T18:00:00+08:00', 'endTime': '2024-02-16T06:00:00+08:00', 'parameter': {'parameterName': '30', 'parameterUnit': '百分比'}}]}]}, {'locationName': '臺中市', 'weatherElement': [{'elementName': 'Wx', 'time': [{'startTime': '2024-02-15T00:00:00+08:00', 'endTime': '2024-02-15T06:00:00+08:00', 'parameter': {'parameterName': '晴時多雲', 'parameterValue': '2'}}, {'startTime': '2024-02-15T06:00:00+08:00', 'endTime': '2024-02-15T18:00:00+08:00', 'parameter': {'parameterName': '晴時多雲', 'parameterValue': '2'}}, {'startTime': '2024-02-15T18:00:00+08:00', 'endTime': '2024-02-16T06:00:00+08:00', 'parameter': {'parameterName': '晴時多雲', 'parameterValue': '2'}}]}, {'elementName': 'MaxT', 'time': [{'startTime': '2024-02-15T00:00:00+08:00', 'endTime': '2024-02-15T06:00:00+08:00', 'parameter': {'parameterName': '17', 'parameterUnit': 'C'}}, {'startTime': '2024-02-15T06:00:00+08:00', 'endTime': '2024-02-15T18:00:00+08:00', 'parameter': {'parameterName': '28', 'parameterUnit': 'C'}}, {'startTime': '2024-02-15T18:00:00+08:00', 'endTime': '2024-02-16T06:00:00+08:00', 'parameter': {'parameterName': '22', 'parameterUnit': 'C'}}]}, {'elementName': 'MinT', 'time': [{'startTime': '2024-02-15T00:00:00+08:00', 'endTime': '2024-02-15T06:00:00+08:00', 'parameter': {'parameterName': '15', 'parameterUnit': 'C'}}, {'startTime': '2024-02-15T06:00:00+08:00', 'endTime': '2024-02-15T18:00:00+08:00', 'parameter': {'parameterName': '15', 'parameterUnit': 'C'}}, {'startTime': '2024-02-15T18:00:00+08:00', 'endTime': '2024-02-16T06:00:00+08:00', 'parameter': {'parameterName': '15', 'parameterUnit': 'C'}}]}, {'elementName': 'CI', 'time': [{'startTime': '2024-02-15T00:00:00+08:00', 'endTime': '2024-02-15T06:00:00+08:00', 'parameter': {'parameterName': '寒冷至稍有寒意'}}, {'startTime': '2024-02-15T06:00:00+08:00', 'endTime': '2024-02-15T18:00:00+08:00', 'parameter': {'parameterName': '寒冷至舒適'}}, {'startTime': '2024-02-15T18:00:00+08:00', 'endTime': '2024-02-16T06:00:00+08:00', 'parameter': {'parameterName': '寒冷至舒適'}}]}, {'elementName': 'PoP', 'time': [{'startTime': '2024-02-15T00:00:00+08:00', 'endTime': '2024-02-15T06:00:00+08:00', 'parameter': {'parameterName': '0', 'parameterUnit': '百分比'}}, {'startTime': '2024-02-15T06:00:00+08:00', 'endTime': '2024-02-15T18:00:00+08:00', 'parameter': {'parameterName': '10', 'parameterUnit': '百分比'}}, {'startTime': '2024-02-15T18:00:00+08:00', 'endTime': '2024-02-16T06:00:00+08:00', 'parameter': {'parameterName': '10', 'parameterUnit': '百分比'}}]}]}, {'locationName': '臺南市', 'weatherElement': [{'elementName': 'Wx', 'time': [{'startTime': '2024-02-15T00:00:00+08:00', 'endTime': '2024-02-15T06:00:00+08:00', 'parameter': {'parameterName': '晴時多雲', 'parameterValue': '2'}}, {'startTime': '2024-02-15T06:00:00+08:00', 'endTime': '2024-02-15T18:00:00+08:00', 'parameter': {'parameterName': '晴時多雲', 'parameterValue': '2'}}, {'startTime': '2024-02-15T18:00:00+08:00', 'endTime': '2024-02-16T06:00:00+08:00', 'parameter': {'parameterName': '晴時多雲', 'parameterValue': '2'}}]}, {'elementName': 'MaxT', 'time': [{'startTime': '2024-02-15T00:00:00+08:00', 'endTime': '2024-02-15T06:00:00+08:00', 'parameter': {'parameterName': '19', 'parameterUnit': 'C'}}, {'startTime': '2024-02-15T06:00:00+08:00', 'endTime': '2024-02-15T18:00:00+08:00', 'parameter': {'parameterName': '27', 'parameterUnit': 'C'}}, {'startTime': '2024-02-15T18:00:00+08:00', 'endTime': '2024-02-16T06:00:00+08:00', 'parameter': {'parameterName': '23', 'parameterUnit': 'C'}}]}, {'elementName': 'MinT', 'time': [{'startTime': '2024-02-15T00:00:00+08:00', 'endTime': '2024-02-15T06:00:00+08:00', 'parameter': {'parameterName': '17', 'parameterUnit': 'C'}}, {'startTime': '2024-02-15T06:00:00+08:00', 'endTime': '2024-02-15T18:00:00+08:00', 'parameter': {'parameterName': '17', 'parameterUnit': 'C'}}, {'startTime': '2024-02-15T18:00:00+08:00', 'endTime': '2024-02-16T06:00:00+08:00', 'parameter': {'parameterName': '17', 'parameterUnit': 'C'}}]}, {'elementName': 'CI', 'time': [{'startTime': '2024-02-15T00:00:00+08:00', 'endTime': '2024-02-15T06:00:00+08:00', 'parameter': {'parameterName': '稍有寒意'}}, {'startTime': '2024-02-15T06:00:00+08:00', 'endTime': '2024-02-15T18:00:00+08:00', 'parameter': {'parameterName': '稍有寒意至舒適'}}, {'startTime': '2024-02-15T18:00:00+08:00', 'endTime': '2024-02-16T06:00:00+08:00', 'parameter': {'parameterName': '稍有寒意至舒適'}}]}, {'elementName': 'PoP', 'time': [{'startTime': '2024-02-15T00:00:00+08:00', 'endTime': '2024-02-15T06:00:00+08:00', 'parameter': {'parameterName': '0', 'parameterUnit': '百分比'}}, {'startTime': '2024-02-15T06:00:00+08:00', 'endTime': '2024-02-15T18:00:00+08:00', 'parameter': {'parameterName': '0', 'parameterUnit': '百分比'}}, {'startTime': '2024-02-15T18:00:00+08:00', 'endTime': '2024-02-16T06:00:00+08:00', 'parameter': {'parameterName': '10', 'parameterUnit': '百分比'}}]}]}, {'locationName': '高雄市', 'weatherElement': [{'elementName': 'Wx', 'time': [{'startTime': '2024-02-15T00:00:00+08:00', 'endTime': '2024-02-15T06:00:00+08:00', 'parameter': {'parameterName': '晴時多雲', 'parameterValue': '2'}}, {'startTime': '2024-02-15T06:00:00+08:00', 'endTime': '2024-02-15T18:00:00+08:00', 'parameter': {'parameterName': '多雲時晴', 'parameterValue': '3'}}, {'startTime': '2024-02-15T18:00:00+08:00', 'endTime': '2024-02-16T06:00:00+08:00', 'parameter': {'parameterName': '晴時多雲', 'parameterValue': '2'}}]}, {'elementName': 'MaxT', 'time': [{'startTime': '2024-02-15T00:00:00+08:00', 'endTime': '2024-02-15T06:00:00+08:00', 'parameter': {'parameterName': '22', 'parameterUnit': 'C'}}, {'startTime': '2024-02-15T06:00:00+08:00', 'endTime': '2024-02-15T18:00:00+08:00', 'parameter': {'parameterName': '28', 'parameterUnit': 'C'}}, {'startTime': '2024-02-15T18:00:00+08:00', 'endTime': '2024-02-16T06:00:00+08:00', 'parameter': {'parameterName': '26', 'parameterUnit': 'C'}}]}, {'elementName': 'MinT', 'time': [{'startTime': '2024-02-15T00:00:00+08:00', 'endTime': '2024-02-15T06:00:00+08:00', 'parameter': {'parameterName': '19', 'parameterUnit': 'C'}}, {'startTime': '2024-02-15T06:00:00+08:00', 'endTime': '2024-02-15T18:00:00+08:00', 'parameter': {'parameterName': '19', 'parameterUnit': 'C'}}, {'startTime': '2024-02-15T18:00:00+08:00', 'endTime': '2024-02-16T06:00:00+08:00', 'parameter': {'parameterName': '19', 'parameterUnit': 'C'}}]}, {'elementName': 'CI', 'time': [{'startTime': '2024-02-15T00:00:00+08:00', 'endTime': '2024-02-15T06:00:00+08:00', 'parameter': {'parameterName': '稍有寒意至舒適'}}, {'startTime': '2024-02-15T06:00:00+08:00', 'endTime': '2024-02-15T18:00:00+08:00', 'parameter': {'parameterName': '稍有寒意至舒適'}}, {'startTime': '2024-02-15T18:00:00+08:00', 'endTime': '2024-02-16T06:00:00+08:00', 'parameter': {'parameterName': '稍有寒意至舒適'}}]}, {'elementName': 'PoP', 'time': [{'startTime': '2024-02-15T00:00:00+08:00', 'endTime': '2024-02-15T06:00:00+08:00', 'parameter': {'parameterName': '0', 'parameterUnit': '百分比'}}, {'startTime': '2024-02-15T06:00:00+08:00', 'endTime': '2024-02-15T18:00:00+08:00', 'parameter': {'parameterName': '0', 'parameterUnit': '百分比'}}, {'startTime': '2024-02-15T18:00:00+08:00', 'endTime': '2024-02-16T06:00:00+08:00', 'parameter': {'parameterName': '10', 'parameterUnit': '百分比'}}]}]}, {'locationName': '基隆市', 'weatherElement': [{'elementName': 'Wx', 'time': [{'startTime': '2024-02-15T00:00:00+08:00', 'endTime': '2024-02-15T06:00:00+08:00', 'parameter': {'parameterName': '晴時多雲', 'parameterValue': '2'}}, {'startTime': '2024-02-15T06:00:00+08:00', 'endTime': '2024-02-15T18:00:00+08:00', 'parameter': {'parameterName': '晴時多雲', 'parameterValue': '2'}}, {'startTime': '2024-02-15T18:00:00+08:00', 'endTime': '2024-02-16T06:00:00+08:00', 'parameter': {'parameterName': '陰時多雲短暫雨', 'parameterValue': '10'}}]}, {'elementName': 'MaxT', 'time': [{'startTime': '2024-02-15T00:00:00+08:00', 'endTime': '2024-02-15T06:00:00+08:00', 'parameter': {'parameterName': '17', 'parameterUnit': 'C'}}, {'startTime': '2024-02-15T06:00:00+08:00', 'endTime': '2024-02-15T18:00:00+08:00', 'parameter': {'parameterName': '23', 'parameterUnit': 'C'}}, {'startTime': '2024-02-15T18:00:00+08:00', 'endTime': '2024-02-16T06:00:00+08:00', 'parameter': {'parameterName': '18', 'parameterUnit': 'C'}}]}, {'elementName': 'MinT', 'time': [{'startTime': '2024-02-15T00:00:00+08:00', 'endTime': '2024-02-15T06:00:00+08:00', 'parameter': {'parameterName': '15', 'parameterUnit': 'C'}}, {'startTime': '2024-02-15T06:00:00+08:00', 'endTime': '2024-02-15T18:00:00+08:00', 'parameter': {'parameterName': '15', 'parameterUnit': 'C'}}, {'startTime': '2024-02-15T18:00:00+08:00', 'endTime': '2024-02-16T06:00:00+08:00', 'parameter': {'parameterName': '14', 'parameterUnit': 'C'}}]}, {'elementName': 'CI', 'time': [{'startTime': '2024-02-15T00:00:00+08:00', 'endTime': '2024-02-15T06:00:00+08:00', 'parameter': {'parameterName': '寒冷至稍有寒意'}}, {'startTime': '2024-02-15T06:00:00+08:00', 'endTime': '2024-02-15T18:00:00+08:00', 'parameter': {'parameterName': '寒冷至舒適'}}, {'startTime': '2024-02-15T18:00:00+08:00', 'endTime': '2024-02-16T06:00:00+08:00', 'parameter': {'parameterName': '寒冷至稍有寒意'}}]}, {'elementName': 'PoP', 'time': [{'startTime': '2024-02-15T00:00:00+08:00', 'endTime': '2024-02-15T06:00:00+08:00', 'parameter': {'parameterName': '0', 'parameterUnit': '百分比'}}, {'startTime': '2024-02-15T06:00:00+08:00', 'endTime': '2024-02-15T18:00:00+08:00', 'parameter': {'parameterName': '20', 'parameterUnit': '百分比'}}, {'startTime': '2024-02-15T18:00:00+08:00', 'endTime': '2024-02-16T06:00:00+08:00', 'parameter': {'parameterName': '80', 'parameterUnit': '百分比'}}]}]}, {'locationName': '新竹縣', 'weatherElement': [{'elementName': 'Wx', 'time': [{'startTime': '2024-02-15T00:00:00+08:00', 'endTime': '2024-02-15T06:00:00+08:00', 'parameter': {'parameterName': '晴時多雲', 'parameterValue': '2'}}, {'startTime': '2024-02-15T06:00:00+08:00', 'endTime': '2024-02-15T18:00:00+08:00', 'parameter': {'parameterName': '晴時多雲', 'parameterValue': '2'}}, {'startTime': '2024-02-15T18:00:00+08:00', 'endTime': '2024-02-16T06:00:00+08:00', 'parameter': {'parameterName': '陰時多雲', 'parameterValue': '6'}}]}, {'elementName': 'MaxT', 'time': [{'startTime': '2024-02-15T00:00:00+08:00', 'endTime': '2024-02-15T06:00:00+08:00', 'parameter': {'parameterName': '16', 'parameterUnit': 'C'}}, {'startTime': '2024-02-15T06:00:00+08:00', 'endTime': '2024-02-15T18:00:00+08:00', 'parameter': {'parameterName': '25', 'parameterUnit': 'C'}}, {'startTime': '2024-02-15T18:00:00+08:00', 'endTime': '2024-02-16T06:00:00+08:00', 'parameter': {'parameterName': '19', 'parameterUnit': 'C'}}]}, {'elementName': 'MinT', 'time': [{'startTime': '2024-02-15T00:00:00+08:00', 'endTime': '2024-02-15T06:00:00+08:00', 'parameter': {'parameterName': '13', 'parameterUnit': 'C'}}, {'startTime': '2024-02-15T06:00:00+08:00', 'endTime': '2024-02-15T18:00:00+08:00', 'parameter': {'parameterName': '13', 'parameterUnit': 'C'}}, {'startTime': '2024-02-15T18:00:00+08:00', 'endTime': '2024-02-16T06:00:00+08:00', 'parameter': {'parameterName': '14', 'parameterUnit': 'C'}}]}, {'elementName': 'CI', 'time': [{'startTime': '2024-02-15T00:00:00+08:00', 'endTime': '2024-02-15T06:00:00+08:00', 'parameter': {'parameterName': '寒冷至稍有寒意'}}, {'startTime': '2024-02-15T06:00:00+08:00', 'endTime': '2024-02-15T18:00:00+08:00', 'parameter': {'parameterName': '寒冷至舒適'}}, {'startTime': '2024-02-15T18:00:00+08:00', 'endTime': '2024-02-16T06:00:00+08:00', 'parameter': {'parameterName': '寒冷至稍有寒意'}}]}, {'elementName': 'PoP', 'time': [{'startTime': '2024-02-15T00:00:00+08:00', 'endTime': '2024-02-15T06:00:00+08:00', 'parameter': {'parameterName': '0', 'parameterUnit': '百分比'}}, {'startTime': '2024-02-15T06:00:00+08:00', 'endTime': '2024-02-15T18:00:00+08:00', 'parameter': {'parameterName': '20', 'parameterUnit': '百分比'}}, {'startTime': '2024-02-15T18:00:00+08:00', 'endTime': '2024-02-16T06:00:00+08:00', 'parameter': {'parameterName': '20', 'parameterUnit': '百分比'}}]}]}, {'locationName': '新竹市', 'weatherElement': [{'elementName': 'Wx', 'time': [{'startTime': '2024-02-15T00:00:00+08:00', 'endTime': '2024-02-15T06:00:00+08:00', 'parameter': {'parameterName': '晴時多雲', 'parameterValue': '2'}}, {'startTime': '2024-02-15T06:00:00+08:00', 'endTime': '2024-02-15T18:00:00+08:00', 'parameter': {'parameterName': '晴時多雲', 'parameterValue': '2'}}, {'startTime': '2024-02-15T18:00:00+08:00', 'endTime': '2024-02-16T06:00:00+08:00', 'parameter': {'parameterName': '陰時多雲', 'parameterValue': '6'}}]}, {'elementName': 'MaxT', 'time': [{'startTime': '2024-02-15T00:00:00+08:00', 'endTime': '2024-02-15T06:00:00+08:00', 'parameter': {'parameterName': '17', 'parameterUnit': 'C'}}, {'startTime': '2024-02-15T06:00:00+08:00', 'endTime': '2024-02-15T18:00:00+08:00', 'parameter': {'parameterName': '24', 'parameterUnit': 'C'}}, {'startTime': '2024-02-15T18:00:00+08:00', 'endTime': '2024-02-16T06:00:00+08:00', 'parameter': {'parameterName': '19', 'parameterUnit': 'C'}}]}, {'elementName': 'MinT', 'time': [{'startTime': '2024-02-15T00:00:00+08:00', 'endTime': '2024-02-15T06:00:00+08:00', 'parameter': {'parameterName': '14', 'parameterUnit': 'C'}}, {'startTime': '2024-02-15T06:00:00+08:00', 'endTime': '2024-02-15T18:00:00+08:00', 'parameter': {'parameterName': '14', 'parameterUnit': 'C'}}, {'startTime': '2024-02-15T18:00:00+08:00', 'endTime': '2024-02-16T06:00:00+08:00', 'parameter': {'parameterName': '14', 'parameterUnit': 'C'}}]}, {'elementName': 'CI', 'time': [{'startTime': '2024-02-15T00:00:00+08:00', 'endTime': '2024-02-15T06:00:00+08:00', 'parameter': {'parameterName': '寒冷至稍有寒意'}}, {'startTime': '2024-02-15T06:00:00+08:00', 'endTime': '2024-02-15T18:00:00+08:00', 'parameter': {'parameterName': '寒冷至舒適'}}, {'startTime': '2024-02-15T18:00:00+08:00', 'endTime': '2024-02-16T06:00:00+08:00', 'parameter': {'parameterName': '寒冷至稍有寒意'}}]}, {'elementName': 'PoP', 'time': [{'startTime': '2024-02-15T00:00:00+08:00', 'endTime': '2024-02-15T06:00:00+08:00', 'parameter': {'parameterName': '0', 'parameterUnit': '百分比'}}, {'startTime': '2024-02-15T06:00:00+08:00', 'endTime': '2024-02-15T18:00:00+08:00', 'parameter': {'parameterName': '20', 'parameterUnit': '百分比'}}, {'startTime': '2024-02-15T18:00:00+08:00', 'endTime': '2024-02-16T06:00:00+08:00', 'parameter': {'parameterName': '20', 'parameterUnit': '百分比'}}]}]}, {'locationName': '苗栗縣', 'weatherElement': [{'elementName': 'Wx', 'time': [{'startTime': '2024-02-15T00:00:00+08:00', 'endTime': '2024-02-15T06:00:00+08:00', 'parameter': {'parameterName': '晴時多雲', 'parameterValue': '2'}}, {'startTime': '2024-02-15T06:00:00+08:00', 'endTime': '2024-02-15T18:00:00+08:00', 'parameter': {'parameterName': '晴時多雲', 'parameterValue': '2'}}, {'startTime': '2024-02-15T18:00:00+08:00', 'endTime': '2024-02-16T06:00:00+08:00', 'parameter': {'parameterName': '多雲', 'parameterValue': '4'}}]}, {'elementName': 'MaxT', 'time': [{'startTime': '2024-02-15T00:00:00+08:00', 'endTime': '2024-02-15T06:00:00+08:00', 'parameter': {'parameterName': '15', 'parameterUnit': 'C'}}, {'startTime': '2024-02-15T06:00:00+08:00', 'endTime': '2024-02-15T18:00:00+08:00', 'parameter': {'parameterName': '26', 'parameterUnit': 'C'}}, {'startTime': '2024-02-15T18:00:00+08:00', 'endTime': '2024-02-16T06:00:00+08:00', 'parameter': {'parameterName': '19', 'parameterUnit': 'C'}}]}, {'elementName': 'MinT', 'time': [{'startTime': '2024-02-15T00:00:00+08:00', 'endTime': '2024-02-15T06:00:00+08:00', 'parameter': {'parameterName': '13', 'parameterUnit': 'C'}}, {'startTime': '2024-02-15T06:00:00+08:00', 'endTime': '2024-02-15T18:00:00+08:00', 'parameter': {'parameterName': '12', 'parameterUnit': 'C'}}, {'startTime': '2024-02-15T18:00:00+08:00', 'endTime': '2024-02-16T06:00:00+08:00', 'parameter': {'parameterName': '13', 'parameterUnit': 'C'}}]}, {'elementName': 'CI', 'time': [{'startTime': '2024-02-15T00:00:00+08:00', 'endTime': '2024-02-15T06:00:00+08:00', 'parameter': {'parameterName': '寒冷'}}, {'startTime': '2024-02-15T06:00:00+08:00', 'endTime': '2024-02-15T18:00:00+08:00', 'parameter': {'parameterName': '寒冷至舒適'}}, {'startTime': '2024-02-15T18:00:00+08:00', 'endTime': '2024-02-16T06:00:00+08:00', 'parameter': {'parameterName': '寒冷至稍有寒意'}}]}, {'elementName': 'PoP', 'time': [{'startTime': '2024-02-15T00:00:00+08:00', 'endTime': '2024-02-15T06:00:00+08:00', 'parameter': {'parameterName': '0', 'parameterUnit': '百分比'}}, {'startTime': '2024-02-15T06:00:00+08:00', 'endTime': '2024-02-15T18:00:00+08:00', 'parameter': {'parameterName': '10', 'parameterUnit': '百分比'}}, {'startTime': '2024-02-15T18:00:00+08:00', 'endTime': '2024-02-16T06:00:00+08:00', 'parameter': {'parameterName': '20', 'parameterUnit': '百分比'}}]}]}, {'locationName': '彰化縣', 'weatherElement': [{'elementName': 'Wx', 'time': [{'startTime': '2024-02-15T00:00:00+08:00', 'endTime': '2024-02-15T06:00:00+08:00', 'parameter': {'parameterName': '晴時多雲', 'parameterValue': '2'}}, {'startTime': '2024-02-15T06:00:00+08:00', 'endTime': '2024-02-15T18:00:00+08:00', 'parameter': {'parameterName': '晴時多雲', 'parameterValue': '2'}}, {'startTime': '2024-02-15T18:00:00+08:00', 'endTime': '2024-02-16T06:00:00+08:00', 'parameter': {'parameterName': '晴時多雲', 'parameterValue': '2'}}]}, {'elementName': 'MaxT', 'time': [{'startTime': '2024-02-15T00:00:00+08:00', 'endTime': '2024-02-15T06:00:00+08:00', 'parameter': {'parameterName': '17', 'parameterUnit': 'C'}}, {'startTime': '2024-02-15T06:00:00+08:00', 'endTime': '2024-02-15T18:00:00+08:00', 'parameter': {'parameterName': '28', 'parameterUnit': 'C'}}, {'startTime': '2024-02-15T18:00:00+08:00', 'endTime': '2024-02-16T06:00:00+08:00', 'parameter': {'parameterName': '22', 'parameterUnit': 'C'}}]}, {'elementName': 'MinT', 'time': [{'startTime': '2024-02-15T00:00:00+08:00', 'endTime': '2024-02-15T06:00:00+08:00', 'parameter': {'parameterName': '15', 'parameterUnit': 'C'}}, {'startTime': '2024-02-15T06:00:00+08:00', 'endTime': '2024-02-15T18:00:00+08:00', 'parameter': {'parameterName': '14', 'parameterUnit': 'C'}}, {'startTime': '2024-02-15T18:00:00+08:00', 'endTime': '2024-02-16T06:00:00+08:00', 'parameter': {'parameterName': '15', 'parameterUnit': 'C'}}]}, {'elementName': 'CI', 'time': [{'startTime': '2024-02-15T00:00:00+08:00', 'endTime': '2024-02-15T06:00:00+08:00', 'parameter': {'parameterName': '寒冷至稍有寒意'}}, {'startTime': '2024-02-15T06:00:00+08:00', 'endTime': '2024-02-15T18:00:00+08:00', 'parameter': {'parameterName': '寒冷至舒適'}}, {'startTime': '2024-02-15T18:00:00+08:00', 'endTime': '2024-02-16T06:00:00+08:00', 'parameter': {'parameterName': '寒冷至舒適'}}]}, {'elementName': 'PoP', 'time': [{'startTime': '2024-02-15T00:00:00+08:00', 'endTime': '2024-02-15T06:00:00+08:00', 'parameter': {'parameterName': '0', 'parameterUnit': '百分比'}}, {'startTime': '2024-02-15T06:00:00+08:00', 'endTime': '2024-02-15T18:00:00+08:00', 'parameter': {'parameterName': '0', 'parameterUnit': '百分比'}}, {'startTime': '2024-02-15T18:00:00+08:00', 'endTime': '2024-02-16T06:00:00+08:00', 'parameter': {'parameterName': '10', 'parameterUnit': '百分比'}}]}]}, {'locationName': '南投縣', 'weatherElement': [{'elementName': 'Wx', 'time': [{'startTime': '2024-02-15T00:00:00+08:00', 'endTime': '2024-02-15T06:00:00+08:00', 'parameter': {'parameterName': '晴時多雲', 'parameterValue': '2'}}, {'startTime': '2024-02-15T06:00:00+08:00', 'endTime': '2024-02-15T18:00:00+08:00', 'parameter': {'parameterName': '晴時多雲', 'parameterValue': '2'}}, {'startTime': '2024-02-15T18:00:00+08:00', 'endTime': '2024-02-16T06:00:00+08:00', 'parameter': {'parameterName': '晴時多雲', 'parameterValue': '2'}}]}, {'elementName': 'MaxT', 'time': [{'startTime': '2024-02-15T00:00:00+08:00', 'endTime': '2024-02-15T06:00:00+08:00', 'parameter': {'parameterName': '17', 'parameterUnit': 'C'}}, {'startTime': '2024-02-15T06:00:00+08:00', 'endTime': '2024-02-15T18:00:00+08:00', 'parameter': {'parameterName': '28', 'parameterUnit': 'C'}}, {'startTime': '2024-02-15T18:00:00+08:00', 'endTime': '2024-02-16T06:00:00+08:00', 'parameter': {'parameterName': '23', 'parameterUnit': 'C'}}]}, {'elementName': 'MinT', 'time': [{'startTime': '2024-02-15T00:00:00+08:00', 'endTime': '2024-02-15T06:00:00+08:00', 'parameter': {'parameterName': '15', 'parameterUnit': 'C'}}, {'startTime': '2024-02-15T06:00:00+08:00', 'endTime': '2024-02-15T18:00:00+08:00', 'parameter': {'parameterName': '15', 'parameterUnit': 'C'}}, {'startTime': '2024-02-15T18:00:00+08:00', 'endTime': '2024-02-16T06:00:00+08:00', 'parameter': {'parameterName': '15', 'parameterUnit': 'C'}}]}, {'elementName': 'CI', 'time': [{'startTime': '2024-02-15T00:00:00+08:00', 'endTime': '2024-02-15T06:00:00+08:00', 'parameter': {'parameterName': '寒冷至稍有寒意'}}, {'startTime': '2024-02-15T06:00:00+08:00', 'endTime': '2024-02-15T18:00:00+08:00', 'parameter': {'parameterName': '寒冷至舒適'}}, {'startTime': '2024-02-15T18:00:00+08:00', 'endTime': '2024-02-16T06:00:00+08:00', 'parameter': {'parameterName': '寒冷至舒適'}}]}, {'elementName': 'PoP', 'time': [{'startTime': '2024-02-15T00:00:00+08:00', 'endTime': '2024-02-15T06:00:00+08:00', 'parameter': {'parameterName': '0', 'parameterUnit': '百分比'}}, {'startTime': '2024-02-15T06:00:00+08:00', 'endTime': '2024-02-15T18:00:00+08:00', 'parameter': {'parameterName': '0', 'parameterUnit': '百分比'}}, {'startTime': '2024-02-15T18:00:00+08:00', 'endTime': '2024-02-16T06:00:00+08:00', 'parameter': {'parameterName': '10', 'parameterUnit': '百分比'}}]}]}, {'locationName': '雲林縣', 'weatherElement': [{'elementName': 'Wx', 'time': [{'startTime': '2024-02-15T00:00:00+08:00', 'endTime': '2024-02-15T06:00:00+08:00', 'parameter': {'parameterName': '晴時多雲', 'parameterValue': '2'}}, {'startTime': '2024-02-15T06:00:00+08:00', 'endTime': '2024-02-15T18:00:00+08:00', 'parameter': {'parameterName': '晴時多雲', 'parameterValue': '2'}}, {'startTime': '2024-02-15T18:00:00+08:00', 'endTime': '2024-02-16T06:00:00+08:00', 'parameter': {'parameterName': '晴時多雲', 'parameterValue': '2'}}]}, {'elementName': 'MaxT', 'time': [{'startTime': '2024-02-15T00:00:00+08:00', 'endTime': '2024-02-15T06:00:00+08:00', 'parameter': {'parameterName': '17', 'parameterUnit': 'C'}}, {'startTime': '2024-02-15T06:00:00+08:00', 'endTime': '2024-02-15T18:00:00+08:00', 'parameter': {'parameterName': '28', 'parameterUnit': 'C'}}, {'startTime': '2024-02-15T18:00:00+08:00', 'endTime': '2024-02-16T06:00:00+08:00', 'parameter': {'parameterName': '22', 'parameterUnit': 'C'}}]}, {'elementName': 'MinT', 'time': [{'startTime': '2024-02-15T00:00:00+08:00', 'endTime': '2024-02-15T06:00:00+08:00', 'parameter': {'parameterName': '15', 'parameterUnit': 'C'}}, {'startTime': '2024-02-15T06:00:00+08:00', 'endTime': '2024-02-15T18:00:00+08:00', 'parameter': {'parameterName': '15', 'parameterUnit': 'C'}}, {'startTime': '2024-02-15T18:00:00+08:00', 'endTime': '2024-02-16T06:00:00+08:00', 'parameter': {'parameterName': '15', 'parameterUnit': 'C'}}]}, {'elementName': 'CI', 'time': [{'startTime': '2024-02-15T00:00:00+08:00', 'endTime': '2024-02-15T06:00:00+08:00', 'parameter': {'parameterName': '寒冷至稍有寒意'}}, {'startTime': '2024-02-15T06:00:00+08:00', 'endTime': '2024-02-15T18:00:00+08:00', 'parameter': {'parameterName': '寒冷至舒適'}}, {'startTime': '2024-02-15T18:00:00+08:00', 'endTime': '2024-02-16T06:00:00+08:00', 'parameter': {'parameterName': '寒冷至舒適'}}]}, {'elementName': 'PoP', 'time': [{'startTime': '2024-02-15T00:00:00+08:00', 'endTime': '2024-02-15T06:00:00+08:00', 'parameter': {'parameterName': '0', 'parameterUnit': '百分比'}}, {'startTime': '2024-02-15T06:00:00+08:00', 'endTime': '2024-02-15T18:00:00+08:00', 'parameter': {'parameterName': '0', 'parameterUnit': '百分比'}}, {'startTime': '2024-02-15T18:00:00+08:00', 'endTime': '2024-02-16T06:00:00+08:00', 'parameter': {'parameterName': '10', 'parameterUnit': '百分比'}}]}]}, {'locationName': '嘉義縣', 'weatherElement': [{'elementName': 'Wx', 'time': [{'startTime': '2024-02-15T00:00:00+08:00', 'endTime': '2024-02-15T06:00:00+08:00', 'parameter': {'parameterName': '晴時多雲', 'parameterValue': '2'}}, {'startTime': '2024-02-15T06:00:00+08:00', 'endTime': '2024-02-15T18:00:00+08:00', 'parameter': {'parameterName': '晴時多雲', 'parameterValue': '2'}}, {'startTime': '2024-02-15T18:00:00+08:00', 'endTime': '2024-02-16T06:00:00+08:00', 'parameter': {'parameterName': '晴時多雲', 'parameterValue': '2'}}]}, {'elementName': 'MaxT', 'time': [{'startTime': '2024-02-15T00:00:00+08:00', 'endTime': '2024-02-15T06:00:00+08:00', 'parameter': {'parameterName': '17', 'parameterUnit': 'C'}}, {'startTime': '2024-02-15T06:00:00+08:00', 'endTime': '2024-02-15T18:00:00+08:00', 'parameter': {'parameterName': '28', 'parameterUnit': 'C'}}, {'startTime': '2024-02-15T18:00:00+08:00', 'endTime': '2024-02-16T06:00:00+08:00', 'parameter': {'parameterName': '23', 'parameterUnit': 'C'}}]}, {'elementName': 'MinT', 'time': [{'startTime': '2024-02-15T00:00:00+08:00', 'endTime': '2024-02-15T06:00:00+08:00', 'parameter': {'parameterName': '15', 'parameterUnit': 'C'}}, {'startTime': '2024-02-15T06:00:00+08:00', 'endTime': '2024-02-15T18:00:00+08:00', 'parameter': {'parameterName': '15', 'parameterUnit': 'C'}}, {'startTime': '2024-02-15T18:00:00+08:00', 'endTime': '2024-02-16T06:00:00+08:00', 'parameter': {'parameterName': '16', 'parameterUnit': 'C'}}]}, {'elementName': 'CI', 'time': [{'startTime': '2024-02-15T00:00:00+08:00', 'endTime': '2024-02-15T06:00:00+08:00', 'parameter': {'parameterName': '寒冷至稍有寒意'}}, {'startTime': '2024-02-15T06:00:00+08:00', 'endTime': '2024-02-15T18:00:00+08:00', 'parameter': {'parameterName': '寒冷至舒適'}}, {'startTime': '2024-02-15T18:00:00+08:00', 'endTime': '2024-02-16T06:00:00+08:00', 'parameter': {'parameterName': '稍有寒意至舒適'}}]}, {'elementName': 'PoP', 'time': [{'startTime': '2024-02-15T00:00:00+08:00', 'endTime': '2024-02-15T06:00:00+08:00', 'parameter': {'parameterName': '0', 'parameterUnit': '百分比'}}, {'startTime': '2024-02-15T06:00:00+08:00', 'endTime': '2024-02-15T18:00:00+08:00', 'parameter': {'parameterName': '0', 'parameterUnit': '百分比'}}, {'startTime': '2024-02-15T18:00:00+08:00', 'endTime': '2024-02-16T06:00:00+08:00', 'parameter': {'parameterName': '10', 'parameterUnit': '百分比'}}]}]}, {'locationName': '嘉義市', 'weatherElement': [{'elementName': 'Wx', 'time': [{'startTime': '2024-02-15T00:00:00+08:00', 'endTime': '2024-02-15T06:00:00+08:00', 'parameter': {'parameterName': '晴時多雲', 'parameterValue': '2'}}, {'startTime': '2024-02-15T06:00:00+08:00', 'endTime': '2024-02-15T18:00:00+08:00', 'parameter': {'parameterName': '晴時多雲', 'parameterValue': '2'}}, {'startTime': '2024-02-15T18:00:00+08:00', 'endTime': '2024-02-16T06:00:00+08:00', 'parameter': {'parameterName': '晴時多雲', 'parameterValue': '2'}}]}, {'elementName': 'MaxT', 'time': [{'startTime': '2024-02-15T00:00:00+08:00', 'endTime': '2024-02-15T06:00:00+08:00', 'parameter': {'parameterName': '18', 'parameterUnit': 'C'}}, {'startTime': '2024-02-15T06:00:00+08:00', 'endTime': '2024-02-15T18:00:00+08:00', 'parameter': {'parameterName': '29', 'parameterUnit': 'C'}}, {'startTime': '2024-02-15T18:00:00+08:00', 'endTime': '2024-02-16T06:00:00+08:00', 'parameter': {'parameterName': '24', 'parameterUnit': 'C'}}]}, {'elementName': 'MinT', 'time': [{'startTime': '2024-02-15T00:00:00+08:00', 'endTime': '2024-02-15T06:00:00+08:00', 'parameter': {'parameterName': '16', 'parameterUnit': 'C'}}, {'startTime': '2024-02-15T06:00:00+08:00', 'endTime': '2024-02-15T18:00:00+08:00', 'parameter': {'parameterName': '16', 'parameterUnit': 'C'}}, {'startTime': '2024-02-15T18:00:00+08:00', 'endTime': '2024-02-16T06:00:00+08:00', 'parameter': {'parameterName': '16', 'parameterUnit': 'C'}}]}, {'elementName': 'CI', 'time': [{'startTime': '2024-02-15T00:00:00+08:00', 'endTime': '2024-02-15T06:00:00+08:00', 'parameter': {'parameterName': '稍有寒意'}}, {'startTime': '2024-02-15T06:00:00+08:00', 'endTime': '2024-02-15T18:00:00+08:00', 'parameter': {'parameterName': '稍有寒意至舒適'}}, {'startTime': '2024-02-15T18:00:00+08:00', 'endTime': '2024-02-16T06:00:00+08:00', 'parameter': {'parameterName': '稍有寒意至舒適'}}]}, {'elementName': 'PoP', 'time': [{'startTime': '2024-02-15T00:00:00+08:00', 'endTime': '2024-02-15T06:00:00+08:00', 'parameter': {'parameterName': '0', 'parameterUnit': '百分比'}}, {'startTime': '2024-02-15T06:00:00+08:00', 'endTime': '2024-02-15T18:00:00+08:00', 'parameter': {'parameterName': '0', 'parameterUnit': '百分比'}}, {'startTime': '2024-02-15T18:00:00+08:00', 'endTime': '2024-02-16T06:00:00+08:00', 'parameter': {'parameterName': '10', 'parameterUnit': '百分比'}}]}]}, {'locationName': '屏東縣', 'weatherElement': [{'elementName': 'Wx', 'time': [{'startTime': '2024-02-15T00:00:00+08:00', 'endTime': '2024-02-15T06:00:00+08:00', 'parameter': {'parameterName': '晴時多雲', 'parameterValue': '2'}}, {'startTime': '2024-02-15T06:00:00+08:00', 'endTime': '2024-02-15T18:00:00+08:00', 'parameter': {'parameterName': '晴時多雲', 'parameterValue': '2'}}, {'startTime': '2024-02-15T18:00:00+08:00', 'endTime': '2024-02-16T06:00:00+08:00', 'parameter': {'parameterName': '晴時多雲', 'parameterValue': '2'}}]}, {'elementName': 'MaxT', 'time': [{'startTime': '2024-02-15T00:00:00+08:00', 'endTime': '2024-02-15T06:00:00+08:00', 'parameter': {'parameterName': '20', 'parameterUnit': 'C'}}, {'startTime': '2024-02-15T06:00:00+08:00', 'endTime': '2024-02-15T18:00:00+08:00', 'parameter': {'parameterName': '29', 'parameterUnit': 'C'}}, {'startTime': '2024-02-15T18:00:00+08:00', 'endTime': '2024-02-16T06:00:00+08:00', 'parameter': {'parameterName': '26', 'parameterUnit': 'C'}}]}, {'elementName': 'MinT', 'time': [{'startTime': '2024-02-15T00:00:00+08:00', 'endTime': '2024-02-15T06:00:00+08:00', 'parameter': {'parameterName': '17', 'parameterUnit': 'C'}}, {'startTime': '2024-02-15T06:00:00+08:00', 'endTime': '2024-02-15T18:00:00+08:00', 'parameter': {'parameterName': '17', 'parameterUnit': 'C'}}, {'startTime': '2024-02-15T18:00:00+08:00', 'endTime': '2024-02-16T06:00:00+08:00', 'parameter': {'parameterName': '18', 'parameterUnit': 'C'}}]}, {'elementName': 'CI', 'time': [{'startTime': '2024-02-15T00:00:00+08:00', 'endTime': '2024-02-15T06:00:00+08:00', 'parameter': {'parameterName': '稍有寒意'}}, {'startTime': '2024-02-15T06:00:00+08:00', 'endTime': '2024-02-15T18:00:00+08:00', 'parameter': {'parameterName': '稍有寒意至舒適'}}, {'startTime': '2024-02-15T18:00:00+08:00', 'endTime': '2024-02-16T06:00:00+08:00', 'parameter': {'parameterName': '稍有寒意至舒適'}}]}, {'elementName': 'PoP', 'time': [{'startTime': '2024-02-15T00:00:00+08:00', 'endTime': '2024-02-15T06:00:00+08:00', 'parameter': {'parameterName': '0', 'parameterUnit': '百分比'}}, {'startTime': '2024-02-15T06:00:00+08:00', 'endTime': '2024-02-15T18:00:00+08:00', 'parameter': {'parameterName': '0', 'parameterUnit': '百分比'}}, {'startTime': '2024-02-15T18:00:00+08:00', 'endTime': '2024-02-16T06:00:00+08:00', 'parameter': {'parameterName': '10', 'parameterUnit': '百分比'}}]}]}, {'locationName': '宜蘭縣', 'weatherElement': [{'elementName': 'Wx', 'time': [{'startTime': '2024-02-15T00:00:00+08:00', 'endTime': '2024-02-15T06:00:00+08:00', 'parameter': {'parameterName': '晴時多雲', 'parameterValue': '2'}}, {'startTime': '2024-02-15T06:00:00+08:00', 'endTime': '2024-02-15T18:00:00+08:00', 'parameter': {'parameterName': '晴時多雲', 'parameterValue': '2'}}, {'startTime': '2024-02-15T18:00:00+08:00', 'endTime': '2024-02-16T06:00:00+08:00', 'parameter': {'parameterName': '陰時多雲短暫雨', 'parameterValue': '10'}}]}, {'elementName': 'MaxT', 'time': [{'startTime': '2024-02-15T00:00:00+08:00', 'endTime': '2024-02-15T06:00:00+08:00', 'parameter': {'parameterName': '18', 'parameterUnit': 'C'}}, {'startTime': '2024-02-15T06:00:00+08:00', 'endTime': '2024-02-15T18:00:00+08:00', 'parameter': {'parameterName': '25', 'parameterUnit': 'C'}}, {'startTime': '2024-02-15T18:00:00+08:00', 'endTime': '2024-02-16T06:00:00+08:00', 'parameter': {'parameterName': '21', 'parameterUnit': 'C'}}]}, {'elementName': 'MinT', 'time': [{'startTime': '2024-02-15T00:00:00+08:00', 'endTime': '2024-02-15T06:00:00+08:00', 'parameter': {'parameterName': '17', 'parameterUnit': 'C'}}, {'startTime': '2024-02-15T06:00:00+08:00', 'endTime': '2024-02-15T18:00:00+08:00', 'parameter': {'parameterName': '17', 'parameterUnit': 'C'}}, {'startTime': '2024-02-15T18:00:00+08:00', 'endTime': '2024-02-16T06:00:00+08:00', 'parameter': {'parameterName': '16', 'parameterUnit': 'C'}}]}, {'elementName': 'CI', 'time': [{'startTime': '2024-02-15T00:00:00+08:00', 'endTime': '2024-02-15T06:00:00+08:00', 'parameter': {'parameterName': '稍有寒意'}}, {'startTime': '2024-02-15T06:00:00+08:00', 'endTime': '2024-02-15T18:00:00+08:00', 'parameter': {'parameterName': '稍有寒意至舒適'}}, {'startTime': '2024-02-15T18:00:00+08:00', 'endTime': '2024-02-16T06:00:00+08:00', 'parameter': {'parameterName': '稍有寒意至舒適'}}]}, {'elementName': 'PoP', 'time': [{'startTime': '2024-02-15T00:00:00+08:00', 'endTime': '2024-02-15T06:00:00+08:00', 'parameter': {'parameterName': '0', 'parameterUnit': '百分比'}}, {'startTime': '2024-02-15T06:00:00+08:00', 'endTime': '2024-02-15T18:00:00+08:00', 'parameter': {'parameterName': '10', 'parameterUnit': '百分比'}}, {'startTime': '2024-02-15T18:00:00+08:00', 'endTime': '2024-02-16T06:00:00+08:00', 'parameter': {'parameterName': '30', 'parameterUnit': '百分比'}}]}]}, {'locationName': '花蓮縣', 'weatherElement': [{'elementName': 'Wx', 'time': [{'startTime': '2024-02-15T00:00:00+08:00', 'endTime': '2024-02-15T06:00:00+08:00', 'parameter': {'parameterName': '晴時多雲', 'parameterValue': '2'}}, {'startTime': '2024-02-15T06:00:00+08:00', 'endTime': '2024-02-15T18:00:00+08:00', 'parameter': {'parameterName': '晴時多雲', 'parameterValue': '2'}}, {'startTime': '2024-02-15T18:00:00+08:00', 'endTime': '2024-02-16T06:00:00+08:00', 'parameter': {'parameterName': '晴時多雲', 'parameterValue': '2'}}]}, {'elementName': 'MaxT', 'time': [{'startTime': '2024-02-15T00:00:00+08:00', 'endTime': '2024-02-15T06:00:00+08:00', 'parameter': {'parameterName': '19', 'parameterUnit': 'C'}}, {'startTime': '2024-02-15T06:00:00+08:00', 'endTime': '2024-02-15T18:00:00+08:00', 'parameter': {'parameterName': '25', 'parameterUnit': 'C'}}, {'startTime': '2024-02-15T18:00:00+08:00', 'endTime': '2024-02-16T06:00:00+08:00', 'parameter': {'parameterName': '21', 'parameterUnit': 'C'}}]}, {'elementName': 'MinT', 'time': [{'startTime': '2024-02-15T00:00:00+08:00', 'endTime': '2024-02-15T06:00:00+08:00', 'parameter': {'parameterName': '18', 'parameterUnit': 'C'}}, {'startTime': '2024-02-15T06:00:00+08:00', 'endTime': '2024-02-15T18:00:00+08:00', 'parameter': {'parameterName': '18', 'parameterUnit': 'C'}}, {'startTime': '2024-02-15T18:00:00+08:00', 'endTime': '2024-02-16T06:00:00+08:00', 'parameter': {'parameterName': '17', 'parameterUnit': 'C'}}]}, {'elementName': 'CI', 'time': [{'startTime': '2024-02-15T00:00:00+08:00', 'endTime': '2024-02-15T06:00:00+08:00', 'parameter': {'parameterName': '稍有寒意'}}, {'startTime': '2024-02-15T06:00:00+08:00', 'endTime': '2024-02-15T18:00:00+08:00', 'parameter': {'parameterName': '稍有寒意至舒適'}}, {'startTime': '2024-02-15T18:00:00+08:00', 'endTime': '2024-02-16T06:00:00+08:00', 'parameter': {'parameterName': '稍有寒意至舒適'}}]}, {'elementName': 'PoP', 'time': [{'startTime': '2024-02-15T00:00:00+08:00', 'endTime': '2024-02-15T06:00:00+08:00', 'parameter': {'parameterName': '0', 'parameterUnit': '百分比'}}, {'startTime': '2024-02-15T06:00:00+08:00', 'endTime': '2024-02-15T18:00:00+08:00', 'parameter': {'parameterName': '20', 'parameterUnit': '百分比'}}, {'startTime': '2024-02-15T18:00:00+08:00', 'endTime': '2024-02-16T06:00:00+08:00', 'parameter': {'parameterName': '20', 'parameterUnit': '百分比'}}]}]}, {'locationName': '臺東縣', 'weatherElement': [{'elementName': 'Wx', 'time': [{'startTime': '2024-02-15T00:00:00+08:00', 'endTime': '2024-02-15T06:00:00+08:00', 'parameter': {'parameterName': '晴時多雲', 'parameterValue': '2'}}, {'startTime': '2024-02-15T06:00:00+08:00', 'endTime': '2024-02-15T18:00:00+08:00', 'parameter': {'parameterName': '多雲短暫雨', 'parameterValue': '8'}}, {'startTime': '2024-02-15T18:00:00+08:00', 'endTime': '2024-02-16T06:00:00+08:00', 'parameter': {'parameterName': '陰短暫雨', 'parameterValue': '11'}}]}, {'elementName': 'MaxT', 'time': [{'startTime': '2024-02-15T00:00:00+08:00', 'endTime': '2024-02-15T06:00:00+08:00', 'parameter': {'parameterName': '20', 'parameterUnit': 'C'}}, {'startTime': '2024-02-15T06:00:00+08:00', 'endTime': '2024-02-15T18:00:00+08:00', 'parameter': {'parameterName': '26', 'parameterUnit': 'C'}}, {'startTime': '2024-02-15T18:00:00+08:00', 'endTime': '2024-02-16T06:00:00+08:00', 'parameter': {'parameterName': '23', 'parameterUnit': 'C'}}]}, {'elementName': 'MinT', 'time': [{'startTime': '2024-02-15T00:00:00+08:00', 'endTime': '2024-02-15T06:00:00+08:00', 'parameter': {'parameterName': '19', 'parameterUnit': 'C'}}, {'startTime': '2024-02-15T06:00:00+08:00', 'endTime': '2024-02-15T18:00:00+08:00', 'parameter': {'parameterName': '19', 'parameterUnit': 'C'}}, {'startTime': '2024-02-15T18:00:00+08:00', 'endTime': '2024-02-16T06:00:00+08:00', 'parameter': {'parameterName': '19', 'parameterUnit': 'C'}}]}, {'elementName': 'CI', 'time': [{'startTime': '2024-02-15T00:00:00+08:00', 'endTime': '2024-02-15T06:00:00+08:00', 'parameter': {'parameterName': '稍有寒意'}}, {'startTime': '2024-02-15T06:00:00+08:00', 'endTime': '2024-02-15T18:00:00+08:00', 'parameter': {'parameterName': '稍有寒意至舒適'}}, {'startTime': '2024-02-15T18:00:00+08:00', 'endTime': '2024-02-16T06:00:00+08:00', 'parameter': {'parameterName': '稍有寒意至舒適'}}]}, {'elementName': 'PoP', 'time': [{'startTime': '2024-02-15T00:00:00+08:00', 'endTime': '2024-02-15T06:00:00+08:00', 'parameter': {'parameterName': '20', 'parameterUnit': '百分比'}}, {'startTime': '2024-02-15T06:00:00+08:00', 'endTime': '2024-02-15T18:00:00+08:00', 'parameter': {'parameterName': '30', 'parameterUnit': '百分比'}}, {'startTime': '2024-02-15T18:00:00+08:00', 'endTime': '2024-02-16T06:00:00+08:00', 'parameter': {'parameterName': '30', 'parameterUnit': '百分比'}}]}]}, {'locationName': '澎湖縣', 'weatherElement': [{'elementName': 'Wx', 'time': [{'startTime': '2024-02-15T00:00:00+08:00', 'endTime': '2024-02-15T06:00:00+08:00', 'parameter': {'parameterName': '晴時多雲', 'parameterValue': '2'}}, {'startTime': '2024-02-15T06:00:00+08:00', 'endTime': '2024-02-15T18:00:00+08:00', 'parameter': {'parameterName': '晴時多雲', 'parameterValue': '2'}}, {'startTime': '2024-02-15T18:00:00+08:00', 'endTime': '2024-02-16T06:00:00+08:00', 'parameter': {'parameterName': '多雲', 'parameterValue': '4'}}]}, {'elementName': 'MaxT', 'time': [{'startTime': '2024-02-15T00:00:00+08:00', 'endTime': '2024-02-15T06:00:00+08:00', 'parameter': {'parameterName': '20', 'parameterUnit': 'C'}}, {'startTime': '2024-02-15T06:00:00+08:00', 'endTime': '2024-02-15T18:00:00+08:00', 'parameter': {'parameterName': '24', 'parameterUnit': 'C'}}, {'startTime': '2024-02-15T18:00:00+08:00', 'endTime': '2024-02-16T06:00:00+08:00', 'parameter': {'parameterName': '18', 'parameterUnit': 'C'}}]}, {'elementName': 'MinT', 'time': [{'startTime': '2024-02-15T00:00:00+08:00', 'endTime': '2024-02-15T06:00:00+08:00', 'parameter': {'parameterName': '19', 'parameterUnit': 'C'}}, {'startTime': '2024-02-15T06:00:00+08:00', 'endTime': '2024-02-15T18:00:00+08:00', 'parameter': {'parameterName': '18', 'parameterUnit': 'C'}}, {'startTime': '2024-02-15T18:00:00+08:00', 'endTime': '2024-02-16T06:00:00+08:00', 'parameter': {'parameterName': '16', 'parameterUnit': 'C'}}]}, {'elementName': 'CI', 'time': [{'startTime': '2024-02-15T00:00:00+08:00', 'endTime': '2024-02-15T06:00:00+08:00', 'parameter': {'parameterName': '稍有寒意'}}, {'startTime': '2024-02-15T06:00:00+08:00', 'endTime': '2024-02-15T18:00:00+08:00', 'parameter': {'parameterName': '稍有寒意至舒適'}}, {'startTime': '2024-02-15T18:00:00+08:00', 'endTime': '2024-02-16T06:00:00+08:00', 'parameter': {'parameterName': '稍有寒意'}}]}, {'elementName': 'PoP', 'time': [{'startTime': '2024-02-15T00:00:00+08:00', 'endTime': '2024-02-15T06:00:00+08:00', 'parameter': {'parameterName': '0', 'parameterUnit': '百分比'}}, {'startTime': '2024-02-15T06:00:00+08:00', 'endTime': '2024-02-15T18:00:00+08:00', 'parameter': {'parameterName': '0', 'parameterUnit': '百分比'}}, {'startTime': '2024-02-15T18:00:00+08:00', 'endTime': '2024-02-16T06:00:00+08:00', 'parameter': {'parameterName': '10', 'parameterUnit': '百分比'}}]}]}, {'locationName': '金門縣', 'weatherElement': [{'elementName': 'Wx', 'time': [{'startTime': '2024-02-15T00:00:00+08:00', 'endTime': '2024-02-15T06:00:00+08:00', 'parameter': {'parameterName': '晴時多雲', 'parameterValue': '2'}}, {'startTime': '2024-02-15T06:00:00+08:00', 'endTime': '2024-02-15T18:00:00+08:00', 'parameter': {'parameterName': '晴時多雲', 'parameterValue': '2'}}, {'startTime': '2024-02-15T18:00:00+08:00', 'endTime': '2024-02-16T06:00:00+08:00', 'parameter': {'parameterName': '陰時多雲', 'parameterValue': '6'}}]}, {'elementName': 'MaxT', 'time': [{'startTime': '2024-02-15T00:00:00+08:00', 'endTime': '2024-02-15T06:00:00+08:00', 'parameter': {'parameterName': '13', 'parameterUnit': 'C'}}, {'startTime': '2024-02-15T06:00:00+08:00', 'endTime': '2024-02-15T18:00:00+08:00', 'parameter': {'parameterName': '23', 'parameterUnit': 'C'}}, {'startTime': '2024-02-15T18:00:00+08:00', 'endTime': '2024-02-16T06:00:00+08:00', 'parameter': {'parameterName': '16', 'parameterUnit': 'C'}}]}, {'elementName': 'MinT', 'time': [{'startTime': '2024-02-15T00:00:00+08:00', 'endTime': '2024-02-15T06:00:00+08:00', 'parameter': {'parameterName': '11', 'parameterUnit': 'C'}}, {'startTime': '2024-02-15T06:00:00+08:00', 'endTime': '2024-02-15T18:00:00+08:00', 'parameter': {'parameterName': '11', 'parameterUnit': 'C'}}, {'startTime': '2024-02-15T18:00:00+08:00', 'endTime': '2024-02-16T06:00:00+08:00', 'parameter': {'parameterName': '13', 'parameterUnit': 'C'}}]}, {'elementName': 'CI', 'time': [{'startTime': '2024-02-15T00:00:00+08:00', 'endTime': '2024-02-15T06:00:00+08:00', 'parameter': {'parameterName': '寒冷'}}, {'startTime': '2024-02-15T06:00:00+08:00', 'endTime': '2024-02-15T18:00:00+08:00', 'parameter': {'parameterName': '寒冷至舒適'}}, {'startTime': '2024-02-15T18:00:00+08:00', 'endTime': '2024-02-16T06:00:00+08:00', 'parameter': {'parameterName': '寒冷至稍有寒意'}}]}, {'elementName': 'PoP', 'time': [{'startTime': '2024-02-15T00:00:00+08:00', 'endTime': '2024-02-15T06:00:00+08:00', 'parameter': {'parameterName': '0', 'parameterUnit': '百分比'}}, {'startTime': '2024-02-15T06:00:00+08:00', 'endTime': '2024-02-15T18:00:00+08:00', 'parameter': {'parameterName': '0', 'parameterUnit': '百分比'}}, {'startTime': '2024-02-15T18:00:00+08:00', 'endTime': '2024-02-16T06:00:00+08:00', 'parameter': {'parameterName': '20', 'parameterUnit': '百分比'}}]}]}, {'locationName': '連江縣', 'weatherElement': [{'elementName': 'Wx', 'time': [{'startTime': '2024-02-15T00:00:00+08:00', 'endTime': '2024-02-15T06:00:00+08:00', 'parameter': {'parameterName': '晴時多雲', 'parameterValue': '2'}}, {'startTime': '2024-02-15T06:00:00+08:00', 'endTime': '2024-02-15T18:00:00+08:00', 'parameter': {'parameterName': '多雲短暫雨', 'parameterValue': '8'}}, {'startTime': '2024-02-15T18:00:00+08:00', 'endTime': '2024-02-16T06:00:00+08:00', 'parameter': {'parameterName': '陰短暫雨', 'parameterValue': '11'}}]}, {'elementName': 'MaxT', 'time': [{'startTime': '2024-02-15T00:00:00+08:00', 'endTime': '2024-02-15T06:00:00+08:00', 'parameter': {'parameterName': '13', 'parameterUnit': 'C'}}, {'startTime': '2024-02-15T06:00:00+08:00', 'endTime': '2024-02-15T18:00:00+08:00', 'parameter': {'parameterName': '19', 'parameterUnit': 'C'}}, {'startTime': '2024-02-15T18:00:00+08:00', 'endTime': '2024-02-16T06:00:00+08:00', 'parameter': {'parameterName': '12', 'parameterUnit': 'C'}}]}, {'elementName': 'MinT', 'time': [{'startTime': '2024-02-15T00:00:00+08:00', 'endTime': '2024-02-15T06:00:00+08:00', 'parameter': {'parameterName': '11', 'parameterUnit': 'C'}}, {'startTime': '2024-02-15T06:00:00+08:00', 'endTime': '2024-02-15T18:00:00+08:00', 'parameter': {'parameterName': '11', 'parameterUnit': 'C'}}, {'startTime': '2024-02-15T18:00:00+08:00', 'endTime': '2024-02-16T06:00:00+08:00', 'parameter': {'parameterName': '9', 'parameterUnit': 'C'}}]}, {'elementName': 'CI', 'time': [{'startTime': '2024-02-15T00:00:00+08:00', 'endTime': '2024-02-15T06:00:00+08:00', 'parameter': {'parameterName': '寒冷'}}, {'startTime': '2024-02-15T06:00:00+08:00', 'endTime': '2024-02-15T18:00:00+08:00', 'parameter': {'parameterName': '寒冷至稍有寒意'}}, {'startTime': '2024-02-15T18:00:00+08:00', 'endTime': '2024-02-16T06:00:00+08:00', 'parameter': {'parameterName': '非常寒冷至寒冷'}}]}, {'elementName': 'PoP', 'time': [{'startTime': '2024-02-15T00:00:00+08:00', 'endTime': '2024-02-15T06:00:00+08:00', 'parameter': {'parameterName': '0', 'parameterUnit': '百分比'}}, {'startTime': '2024-02-15T06:00:00+08:00', 'endTime': '2024-02-15T18:00:00+08:00', 'parameter': {'parameterName': '30', 'parameterUnit': '百分比'}}, {'startTime': '2024-02-15T18:00:00+08:00', 'endTime': '2024-02-16T06:00:00+08:00', 'parameter': {'parameterName': '30', 'parameterUnit': '百分比'}}]}]}]\n"
     ]
    }
   ],
   "source": [
    "locations = all_json['cwaopendata']['dataset']['location']\n",
    "print(locations)\n"
   ]
  },
  {
   "cell_type": "code",
   "execution_count": 36,
   "metadata": {},
   "outputs": [
    {
     "data": {
      "text/plain": [
       "[{'城市': '臺北市',\n",
       "  '起始時間': '2024-02-15T00:00:00+08:00',\n",
       "  '結束時間': '2024-02-15T06:00:00+08:00',\n",
       "  '最高溫度': 18.0,\n",
       "  '最低溫度': 15.0,\n",
       "  '體感': '寒冷至稍有寒意'},\n",
       " {'城市': '新北市',\n",
       "  '起始時間': '2024-02-15T00:00:00+08:00',\n",
       "  '結束時間': '2024-02-15T06:00:00+08:00',\n",
       "  '最高溫度': 17.0,\n",
       "  '最低溫度': 14.0,\n",
       "  '體感': '寒冷至稍有寒意'},\n",
       " {'城市': '桃園市',\n",
       "  '起始時間': '2024-02-15T00:00:00+08:00',\n",
       "  '結束時間': '2024-02-15T06:00:00+08:00',\n",
       "  '最高溫度': 17.0,\n",
       "  '最低溫度': 15.0,\n",
       "  '體感': '寒冷至稍有寒意'},\n",
       " {'城市': '臺中市',\n",
       "  '起始時間': '2024-02-15T00:00:00+08:00',\n",
       "  '結束時間': '2024-02-15T06:00:00+08:00',\n",
       "  '最高溫度': 17.0,\n",
       "  '最低溫度': 15.0,\n",
       "  '體感': '寒冷至稍有寒意'},\n",
       " {'城市': '臺南市',\n",
       "  '起始時間': '2024-02-15T00:00:00+08:00',\n",
       "  '結束時間': '2024-02-15T06:00:00+08:00',\n",
       "  '最高溫度': 19.0,\n",
       "  '最低溫度': 17.0,\n",
       "  '體感': '稍有寒意'},\n",
       " {'城市': '高雄市',\n",
       "  '起始時間': '2024-02-15T00:00:00+08:00',\n",
       "  '結束時間': '2024-02-15T06:00:00+08:00',\n",
       "  '最高溫度': 22.0,\n",
       "  '最低溫度': 19.0,\n",
       "  '體感': '稍有寒意至舒適'},\n",
       " {'城市': '基隆市',\n",
       "  '起始時間': '2024-02-15T00:00:00+08:00',\n",
       "  '結束時間': '2024-02-15T06:00:00+08:00',\n",
       "  '最高溫度': 17.0,\n",
       "  '最低溫度': 15.0,\n",
       "  '體感': '寒冷至稍有寒意'},\n",
       " {'城市': '新竹縣',\n",
       "  '起始時間': '2024-02-15T00:00:00+08:00',\n",
       "  '結束時間': '2024-02-15T06:00:00+08:00',\n",
       "  '最高溫度': 16.0,\n",
       "  '最低溫度': 13.0,\n",
       "  '體感': '寒冷至稍有寒意'},\n",
       " {'城市': '新竹市',\n",
       "  '起始時間': '2024-02-15T00:00:00+08:00',\n",
       "  '結束時間': '2024-02-15T06:00:00+08:00',\n",
       "  '最高溫度': 17.0,\n",
       "  '最低溫度': 14.0,\n",
       "  '體感': '寒冷至稍有寒意'},\n",
       " {'城市': '苗栗縣',\n",
       "  '起始時間': '2024-02-15T00:00:00+08:00',\n",
       "  '結束時間': '2024-02-15T06:00:00+08:00',\n",
       "  '最高溫度': 15.0,\n",
       "  '最低溫度': 13.0,\n",
       "  '體感': '寒冷'},\n",
       " {'城市': '彰化縣',\n",
       "  '起始時間': '2024-02-15T00:00:00+08:00',\n",
       "  '結束時間': '2024-02-15T06:00:00+08:00',\n",
       "  '最高溫度': 17.0,\n",
       "  '最低溫度': 15.0,\n",
       "  '體感': '寒冷至稍有寒意'},\n",
       " {'城市': '南投縣',\n",
       "  '起始時間': '2024-02-15T00:00:00+08:00',\n",
       "  '結束時間': '2024-02-15T06:00:00+08:00',\n",
       "  '最高溫度': 17.0,\n",
       "  '最低溫度': 15.0,\n",
       "  '體感': '寒冷至稍有寒意'},\n",
       " {'城市': '雲林縣',\n",
       "  '起始時間': '2024-02-15T00:00:00+08:00',\n",
       "  '結束時間': '2024-02-15T06:00:00+08:00',\n",
       "  '最高溫度': 17.0,\n",
       "  '最低溫度': 15.0,\n",
       "  '體感': '寒冷至稍有寒意'},\n",
       " {'城市': '嘉義縣',\n",
       "  '起始時間': '2024-02-15T00:00:00+08:00',\n",
       "  '結束時間': '2024-02-15T06:00:00+08:00',\n",
       "  '最高溫度': 17.0,\n",
       "  '最低溫度': 15.0,\n",
       "  '體感': '寒冷至稍有寒意'},\n",
       " {'城市': '嘉義市',\n",
       "  '起始時間': '2024-02-15T00:00:00+08:00',\n",
       "  '結束時間': '2024-02-15T06:00:00+08:00',\n",
       "  '最高溫度': 18.0,\n",
       "  '最低溫度': 16.0,\n",
       "  '體感': '稍有寒意'},\n",
       " {'城市': '屏東縣',\n",
       "  '起始時間': '2024-02-15T00:00:00+08:00',\n",
       "  '結束時間': '2024-02-15T06:00:00+08:00',\n",
       "  '最高溫度': 20.0,\n",
       "  '最低溫度': 17.0,\n",
       "  '體感': '稍有寒意'},\n",
       " {'城市': '宜蘭縣',\n",
       "  '起始時間': '2024-02-15T00:00:00+08:00',\n",
       "  '結束時間': '2024-02-15T06:00:00+08:00',\n",
       "  '最高溫度': 18.0,\n",
       "  '最低溫度': 17.0,\n",
       "  '體感': '稍有寒意'},\n",
       " {'城市': '花蓮縣',\n",
       "  '起始時間': '2024-02-15T00:00:00+08:00',\n",
       "  '結束時間': '2024-02-15T06:00:00+08:00',\n",
       "  '最高溫度': 19.0,\n",
       "  '最低溫度': 18.0,\n",
       "  '體感': '稍有寒意'},\n",
       " {'城市': '臺東縣',\n",
       "  '起始時間': '2024-02-15T00:00:00+08:00',\n",
       "  '結束時間': '2024-02-15T06:00:00+08:00',\n",
       "  '最高溫度': 20.0,\n",
       "  '最低溫度': 19.0,\n",
       "  '體感': '稍有寒意'},\n",
       " {'城市': '澎湖縣',\n",
       "  '起始時間': '2024-02-15T00:00:00+08:00',\n",
       "  '結束時間': '2024-02-15T06:00:00+08:00',\n",
       "  '最高溫度': 20.0,\n",
       "  '最低溫度': 19.0,\n",
       "  '體感': '稍有寒意'},\n",
       " {'城市': '金門縣',\n",
       "  '起始時間': '2024-02-15T00:00:00+08:00',\n",
       "  '結束時間': '2024-02-15T06:00:00+08:00',\n",
       "  '最高溫度': 13.0,\n",
       "  '最低溫度': 11.0,\n",
       "  '體感': '寒冷'},\n",
       " {'城市': '連江縣',\n",
       "  '起始時間': '2024-02-15T00:00:00+08:00',\n",
       "  '結束時間': '2024-02-15T06:00:00+08:00',\n",
       "  '最高溫度': 13.0,\n",
       "  '最低溫度': 11.0,\n",
       "  '體感': '寒冷'}]"
      ]
     },
     "execution_count": 36,
     "metadata": {},
     "output_type": "execute_result"
    }
   ],
   "source": [
    "all_json = r.json()\n",
    "locations = all_json['cwaopendata']['dataset']['location']\n",
    "#先建立一維空list，裡面存dict\n",
    "weather_list = []\n",
    "for item in locations:\n",
    "    #建立dict\n",
    "    city_item = {}\n",
    "    city_item['城市'] = item['locationName']\n",
    "    city_item['起始時間'] = item[\"weatherElement\"][1]['time'][0]['startTime']\n",
    "    city_item['結束時間'] = item[\"weatherElement\"][1]['time'][0]['endTime']\n",
    "    city_item['最高溫度'] = float(item[\"weatherElement\"][1]['time'][0]['parameter']['parameterName'])\n",
    "    city_item['最低溫度'] = float(item[\"weatherElement\"][2]['time'][0]['parameter']['parameterName'])\n",
    "    city_item['體感'] = item[\"weatherElement\"][3]['time'][0]['parameter']['parameterName']\n",
    "\n",
    "    weather_list.append(city_item)\n",
    "weather_list"
   ]
  },
  {
   "cell_type": "code",
   "execution_count": 38,
   "metadata": {},
   "outputs": [
    {
     "name": "stdout",
     "output_type": "stream",
     "text": [
      "存檔成功\n"
     ]
    }
   ],
   "source": [
    "import csv\n",
    "#csv檔的newline建議為''\n",
    "with open(\"目前天氣預測.csv\",mode='w',encoding='utf-8',newline='') as file:\n",
    "    writer = csv.DictWriter(file,fieldnames=['城市','起始時間','結束時間','最高溫度','最低溫度','體感'])\n",
    "    # 寫入第一列的欄位名稱\n",
    "    writer.writeheader()\n",
    "    writer.writerows(weather_list)\n",
    "print('存檔成功')"
   ]
  }
 ],
 "metadata": {
  "kernelspec": {
   "display_name": "Python 3",
   "language": "python",
   "name": "python3"
  },
  "language_info": {
   "codemirror_mode": {
    "name": "ipython",
    "version": 3
   },
   "file_extension": ".py",
   "mimetype": "text/x-python",
   "name": "python",
   "nbconvert_exporter": "python",
   "pygments_lexer": "ipython3",
   "version": "3.10.13"
  }
 },
 "nbformat": 4,
 "nbformat_minor": 2
}
