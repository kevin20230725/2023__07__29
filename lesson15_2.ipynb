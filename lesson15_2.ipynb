{
 "cells": [
  {
   "cell_type": "code",
   "execution_count": null,
   "metadata": {},
   "outputs": [],
   "source": [
    "#下載 numpy，利用numpy 來新增 array 這個資料類型"
   ]
  },
  {
   "cell_type": "code",
   "execution_count": 1,
   "metadata": {},
   "outputs": [
    {
     "name": "stdout",
     "output_type": "stream",
     "text": [
      "[14, 99, 84, 36, 13]\n"
     ]
    }
   ],
   "source": [
    "a = [8,94,52,32,4]\n",
    "b = [6,5,32,4,9]\n",
    "result = []\n",
    "\n",
    "for i in range(5):\n",
    "    result.append(a[i]+b[i])\n",
    "\n",
    "print(result)"
   ]
  },
  {
   "cell_type": "code",
   "execution_count": 2,
   "metadata": {},
   "outputs": [
    {
     "data": {
      "text/plain": [
       "array([14, 99, 84, 36, 13])"
      ]
     },
     "execution_count": 2,
     "metadata": {},
     "output_type": "execute_result"
    }
   ],
   "source": [
    "#numpy 擴充資料結構 ndArray\n",
    "#Array 可直接做陣列運算\n",
    "import numpy as np\n",
    "#透過list 建立 ndArray\n",
    "a_array = np.array([8,94,52,32,4])\n",
    "b_array = np.array([6,5,32,4,9])\n",
    "\n",
    "a_array + b_array"
   ]
  },
  {
   "cell_type": "code",
   "execution_count": 5,
   "metadata": {},
   "outputs": [
    {
     "data": {
      "text/plain": [
       "[82, 56, 57, 60, 100]"
      ]
     },
     "execution_count": 5,
     "metadata": {},
     "output_type": "execute_result"
    }
   ],
   "source": [
    "import random\n",
    "\n",
    "#list comprehension\n",
    "[random.randint(50,100) for i in range(5)]"
   ]
  },
  {
   "cell_type": "code",
   "execution_count": 6,
   "metadata": {},
   "outputs": [
    {
     "data": {
      "text/plain": [
       "array([94, 57, 87, 74, 63])"
      ]
     },
     "execution_count": 6,
     "metadata": {},
     "output_type": "execute_result"
    }
   ],
   "source": [
    "#使用numpy  random建立亂數\n",
    "import numpy as np\n",
    "np.random.randint(50,high=100,size=5)"
   ]
  },
  {
   "cell_type": "code",
   "execution_count": 7,
   "metadata": {},
   "outputs": [
    {
     "data": {
      "text/plain": [
       "array([[62, 63, 93, 96, 93],\n",
       "       [79, 73, 83, 67, 78],\n",
       "       [85, 83, 78, 70, 76],\n",
       "       [81, 65, 66, 86, 67],\n",
       "       [76, 73, 76, 70, 77],\n",
       "       [55, 50, 80, 80, 83],\n",
       "       [81, 74, 50, 58, 78],\n",
       "       [55, 72, 52, 58, 74],\n",
       "       [51, 98, 74, 74, 75],\n",
       "       [80, 85, 83, 98, 80],\n",
       "       [63, 67, 51, 51, 83],\n",
       "       [93, 80, 75, 66, 58],\n",
       "       [63, 86, 92, 52, 78],\n",
       "       [99, 54, 61, 55, 78],\n",
       "       [69, 68, 58, 73, 65],\n",
       "       [75, 82, 92, 57, 99],\n",
       "       [77, 76, 71, 50, 55],\n",
       "       [88, 81, 66, 80, 84],\n",
       "       [52, 62, 57, 74, 93],\n",
       "       [65, 81, 82, 54, 93],\n",
       "       [89, 92, 67, 57, 61],\n",
       "       [70, 77, 94, 73, 76],\n",
       "       [99, 80, 75, 74, 71],\n",
       "       [60, 81, 55, 93, 60],\n",
       "       [72, 50, 96, 62, 50],\n",
       "       [53, 84, 68, 95, 95],\n",
       "       [72, 56, 63, 83, 50],\n",
       "       [54, 85, 52, 55, 92],\n",
       "       [80, 70, 95, 76, 93],\n",
       "       [61, 59, 90, 91, 58],\n",
       "       [98, 82, 53, 83, 64],\n",
       "       [75, 77, 95, 82, 83],\n",
       "       [52, 74, 51, 55, 55],\n",
       "       [92, 79, 58, 51, 60],\n",
       "       [80, 57, 73, 84, 76],\n",
       "       [99, 72, 68, 98, 55],\n",
       "       [70, 57, 69, 76, 59],\n",
       "       [55, 61, 87, 57, 58],\n",
       "       [76, 64, 96, 56, 91],\n",
       "       [60, 99, 62, 90, 96],\n",
       "       [58, 58, 85, 76, 85],\n",
       "       [58, 80, 74, 57, 73],\n",
       "       [63, 57, 75, 60, 76],\n",
       "       [72, 66, 71, 79, 69],\n",
       "       [78, 85, 86, 57, 94],\n",
       "       [93, 54, 83, 95, 64],\n",
       "       [69, 71, 94, 82, 61],\n",
       "       [60, 98, 73, 91, 86],\n",
       "       [96, 98, 82, 55, 90],\n",
       "       [74, 85, 75, 84, 70]])"
      ]
     },
     "execution_count": 7,
     "metadata": {},
     "output_type": "execute_result"
    }
   ],
   "source": [
    "np.random.randint(50,high=100,size=[50,5])"
   ]
  }
 ],
 "metadata": {
  "kernelspec": {
   "display_name": "Python 3",
   "language": "python",
   "name": "python3"
  },
  "language_info": {
   "codemirror_mode": {
    "name": "ipython",
    "version": 3
   },
   "file_extension": ".py",
   "mimetype": "text/x-python",
   "name": "python",
   "nbconvert_exporter": "python",
   "pygments_lexer": "ipython3",
   "version": "3.10.13"
  }
 },
 "nbformat": 4,
 "nbformat_minor": 2
}
