{
 "cells": [
  {
   "cell_type": "code",
   "execution_count": 3,
   "metadata": {},
   "outputs": [
    {
     "data": {
      "text/plain": [
       "0     王德城\n",
       "1     游詩亞\n",
       "2     李佳彥\n",
       "3     陳倩潔\n",
       "4     林向鈺\n",
       "5     黃佩芬\n",
       "6     楊健麟\n",
       "7     陳信宏\n",
       "8     白美珍\n",
       "9     黃嘉琪\n",
       "10    陳文賢\n",
       "11    陳家年\n",
       "12    錢佩豪\n",
       "13    鄭佳玲\n",
       "14    蔡嘉音\n",
       "15    魏秋萍\n",
       "16    鞠冠宇\n",
       "17    李慈啟\n",
       "18    楊綺芬\n",
       "19    鄭奇翰\n",
       "20    林俊翔\n",
       "21    朱彥志\n",
       "22    王良斌\n",
       "23    陳建香\n",
       "24    林志喜\n",
       "25    程玫靖\n",
       "26    楊易政\n",
       "27    李慈啟\n",
       "28    陳奇瑄\n",
       "29    梁柏宇\n",
       "30    白美珍\n",
       "31    錢佩豪\n",
       "32    艾巧夫\n",
       "33    藍姿婷\n",
       "34    陳冠竹\n",
       "35    高智超\n",
       "36    陳得映\n",
       "37    景歡燦\n",
       "38    邱亭君\n",
       "39    賴佳雯\n",
       "40    白美珍\n",
       "41    林珈發\n",
       "42    李佳彥\n",
       "43    林玉佩\n",
       "44    蘇婷婷\n",
       "45    林益妏\n",
       "46    高信宏\n",
       "47    郭坤花\n",
       "48    尚偉倫\n",
       "49    謝哲維\n",
       "Name: 姓名, dtype: object"
      ]
     },
     "execution_count": 3,
     "metadata": {},
     "output_type": "execute_result"
    }
   ],
   "source": [
    "import pandas as pd \n",
    "df = pd.read_csv('學生成績.csv')\n",
    "#DataFrame的subscript\n",
    "name_s = df['姓名']\n",
    "#name_s 資料結構是Series，因為DataFrame 是由多組Series組成\n",
    "name_s"
   ]
  },
  {
   "cell_type": "code",
   "execution_count": 7,
   "metadata": {},
   "outputs": [
    {
     "data": {
      "text/plain": [
       "0     王德城\n",
       "1     游詩亞\n",
       "2     李佳彥\n",
       "3     陳倩潔\n",
       "4     林向鈺\n",
       "5     黃佩芬\n",
       "6     楊健麟\n",
       "7     陳信宏\n",
       "8     白美珍\n",
       "9     黃嘉琪\n",
       "10    陳文賢\n",
       "11    陳家年\n",
       "12    錢佩豪\n",
       "13    鄭佳玲\n",
       "14    蔡嘉音\n",
       "15    魏秋萍\n",
       "16    鞠冠宇\n",
       "17    李慈啟\n",
       "18    楊綺芬\n",
       "19    鄭奇翰\n",
       "20    林俊翔\n",
       "21    朱彥志\n",
       "22    王良斌\n",
       "23    陳建香\n",
       "24    林志喜\n",
       "25    程玫靖\n",
       "26    楊易政\n",
       "27    李慈啟\n",
       "28    陳奇瑄\n",
       "29    梁柏宇\n",
       "30    白美珍\n",
       "31    錢佩豪\n",
       "32    艾巧夫\n",
       "33    藍姿婷\n",
       "34    陳冠竹\n",
       "35    高智超\n",
       "36    陳得映\n",
       "37    景歡燦\n",
       "38    邱亭君\n",
       "39    賴佳雯\n",
       "40    白美珍\n",
       "41    林珈發\n",
       "42    李佳彥\n",
       "43    林玉佩\n",
       "44    蘇婷婷\n",
       "45    林益妏\n",
       "46    高信宏\n",
       "47    郭坤花\n",
       "48    尚偉倫\n",
       "49    謝哲維\n",
       "Name: 姓名, dtype: object"
      ]
     },
     "metadata": {},
     "output_type": "display_data"
    },
    {
     "name": "stdout",
     "output_type": "stream",
     "text": [
      "==============\n"
     ]
    },
    {
     "data": {
      "text/plain": [
       "'王德城'"
      ]
     },
     "metadata": {},
     "output_type": "display_data"
    },
    {
     "name": "stdout",
     "output_type": "stream",
     "text": [
      "==============\n"
     ]
    },
    {
     "data": {
      "text/plain": [
       "0    王德城\n",
       "1    游詩亞\n",
       "2    李佳彥\n",
       "Name: 姓名, dtype: object"
      ]
     },
     "metadata": {},
     "output_type": "display_data"
    },
    {
     "name": "stdout",
     "output_type": "stream",
     "text": [
      "==============\n"
     ]
    },
    {
     "data": {
      "text/plain": [
       "47    郭坤花\n",
       "48    尚偉倫\n",
       "49    謝哲維\n",
       "Name: 姓名, dtype: object"
      ]
     },
     "metadata": {},
     "output_type": "display_data"
    },
    {
     "name": "stdout",
     "output_type": "stream",
     "text": [
      "==============\n"
     ]
    },
    {
     "data": {
      "text/plain": [
       "1    游詩亞\n",
       "3    陳倩潔\n",
       "8    白美珍\n",
       "Name: 姓名, dtype: object"
      ]
     },
     "metadata": {},
     "output_type": "display_data"
    }
   ],
   "source": [
    "#Series 的subscript\n",
    "display(name_s)\n",
    "print(\"==============\")\n",
    "display(name_s[0])\n",
    "print(\"==============\")\n",
    "display(name_s[:3])\n",
    "print(\"==============\")\n",
    "display(name_s[-3:])\n",
    "print(\"==============\")\n",
    "display(name_s[[1,3,8]])"
   ]
  }
 ],
 "metadata": {
  "kernelspec": {
   "display_name": "Python 3",
   "language": "python",
   "name": "python3"
  },
  "language_info": {
   "codemirror_mode": {
    "name": "ipython",
    "version": 3
   },
   "file_extension": ".py",
   "mimetype": "text/x-python",
   "name": "python",
   "nbconvert_exporter": "python",
   "pygments_lexer": "ipython3",
   "version": "3.10.13"
  }
 },
 "nbformat": 4,
 "nbformat_minor": 2
}
