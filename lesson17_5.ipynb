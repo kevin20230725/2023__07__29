{
 "cells": [
  {
   "cell_type": "code",
   "execution_count": 2,
   "metadata": {},
   "outputs": [],
   "source": [
    "import pandas as pd \n",
    "df = pd.read_csv('學生成績.csv')\n",
    "\n",
    "#搜尋Series值\n",
    "chinese_s = df['國']"
   ]
  },
  {
   "cell_type": "code",
   "execution_count": 5,
   "metadata": {},
   "outputs": [
    {
     "data": {
      "text/plain": [
       "0      99\n",
       "1      80\n",
       "2      63\n",
       "3      65\n",
       "4      88\n",
       "5      77\n",
       "6      95\n",
       "7      80\n",
       "8      84\n",
       "9      82\n",
       "11     76\n",
       "13     83\n",
       "14     92\n",
       "15     89\n",
       "17     86\n",
       "18     61\n",
       "20     64\n",
       "21     85\n",
       "22     60\n",
       "23     62\n",
       "24     87\n",
       "26     87\n",
       "28     61\n",
       "29     63\n",
       "30    100\n",
       "31     65\n",
       "32     73\n",
       "33     85\n",
       "34    100\n",
       "36     77\n",
       "37     64\n",
       "38     78\n",
       "39     96\n",
       "40     85\n",
       "42     66\n",
       "43     87\n",
       "44     62\n",
       "45     87\n",
       "46     88\n",
       "48     76\n",
       "49     68\n",
       "Name: 國, dtype: int64"
      ]
     },
     "execution_count": 5,
     "metadata": {},
     "output_type": "execute_result"
    }
   ],
   "source": [
    "#國文及格的\n",
    "chinese_s[chinese_s >= 60]"
   ]
  },
  {
   "cell_type": "code",
   "execution_count": 7,
   "metadata": {},
   "outputs": [
    {
     "data": {
      "text/plain": [
       "2     51\n",
       "3     56\n",
       "6     54\n",
       "19    51\n",
       "29    52\n",
       "36    53\n",
       "37    50\n",
       "44    53\n",
       "Name: 數, dtype: int64"
      ]
     },
     "execution_count": 7,
     "metadata": {},
     "output_type": "execute_result"
    }
   ],
   "source": [
    "#數學不及格的\n",
    "math_s = df['數']\n",
    "math_s[math_s < 60]"
   ]
  }
 ],
 "metadata": {
  "kernelspec": {
   "display_name": "Python 3",
   "language": "python",
   "name": "python3"
  },
  "language_info": {
   "codemirror_mode": {
    "name": "ipython",
    "version": 3
   },
   "file_extension": ".py",
   "mimetype": "text/x-python",
   "name": "python",
   "nbconvert_exporter": "python",
   "pygments_lexer": "ipython3",
   "version": "3.10.13"
  }
 },
 "nbformat": 4,
 "nbformat_minor": 2
}
