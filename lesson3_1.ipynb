{
 "cells": [
  {
   "cell_type": "code",
   "execution_count": 1,
   "metadata": {},
   "outputs": [
    {
     "data": {
      "text/plain": [
       "5000"
      ]
     },
     "execution_count": 1,
     "metadata": {},
     "output_type": "execute_result"
    }
   ],
   "source": [
    "100*50"
   ]
  },
  {
   "cell_type": "code",
   "execution_count": 3,
   "metadata": {},
   "outputs": [
    {
     "name": "stdout",
     "output_type": "stream",
     "text": [
      "梯形面積為 64005.12 平方公分\n"
     ]
    }
   ],
   "source": [
    "#計算梯形面積\n",
    "top=eval(input(\"輸入梯形上底:\"))\n",
    "dowm=eval(input(\"輸入梯形下底:\"))\n",
    "height=eval(input(\"輸入梯形高:\"))\n",
    "area=(top+dowm)*height/2\n",
    "print(\"梯形面積為\",round(area,2),\"平方公分\") #round函數為四捨五入，前為值、後為小數位數"
   ]
  },
  {
   "cell_type": "code",
   "execution_count": 2,
   "metadata": {},
   "outputs": [
    {
     "name": "stdout",
     "output_type": "stream",
     "text": [
      "我有3個apple，5個orange\n"
     ]
    }
   ],
   "source": [
    "apple = 3\n",
    "orange = 5\n",
    "print(f\"我有{apple}個apple，{orange}個orange\")"
   ]
  }
 ],
 "metadata": {
  "kernelspec": {
   "display_name": "Python 3",
   "language": "python",
   "name": "python3"
  },
  "language_info": {
   "codemirror_mode": {
    "name": "ipython",
    "version": 3
   },
   "file_extension": ".py",
   "mimetype": "text/x-python",
   "name": "python",
   "nbconvert_exporter": "python",
   "pygments_lexer": "ipython3",
   "version": "2.7.0"
  },
  "orig_nbformat": 4
 },
 "nbformat": 4,
 "nbformat_minor": 2
}
