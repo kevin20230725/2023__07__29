{
 "cells": [
  {
   "cell_type": "code",
   "execution_count": 2,
   "metadata": {},
   "outputs": [
    {
     "name": "stdout",
     "output_type": "stream",
     "text": [
      "你的等級是優\n"
     ]
    }
   ],
   "source": [
    "#90-99(含):優\n",
    "#80-89(含):甲\n",
    "#70-79(含):乙\n",
    "#60-69(含):丙\n",
    "#0(含)-59:丁\n",
    "\n",
    "score = eval(input(\"請輸入成績:\"))\n",
    "if score>=90:\n",
    "    grade= \"優\"\n",
    "else:\n",
    "    if score>=80:\n",
    "        grade=\"甲\"\n",
    "    else:\n",
    "        if score>=70:\n",
    "            grade=\"乙\"\n",
    "        else:\n",
    "            if score>=60:\n",
    "                grade =\"丙\"\n",
    "            else :\n",
    "                grade=\"丁\"\n",
    "print(f\"你的等級是{grade}\")"
   ]
  },
  {
   "cell_type": "code",
   "execution_count": 1,
   "metadata": {},
   "outputs": [
    {
     "name": "stdout",
     "output_type": "stream",
     "text": [
      "你的等級是優\n"
     ]
    }
   ],
   "source": [
    "#90-99(含):優\n",
    "#80-89(含):甲\n",
    "#70-79(含):乙\n",
    "#60-69(含):丙\n",
    "#0(含)-59:丁\n",
    "\n",
    "score = eval(input(\"請輸入成績:\"))\n",
    "if score>=90:\n",
    "    grade= \"優\"\n",
    "elif score>=80:\n",
    "    grade=\"甲\"\n",
    "elif score>=70:\n",
    "    grade=\"乙\"\n",
    "elif score>=60:\n",
    "    grade =\"丙\"\n",
    "else :\n",
    "    grade=\"丁\"\n",
    "print(f\"你的等級是{grade}\")\n"
   ]
  },
  {
   "cell_type": "code",
   "execution_count": 3,
   "metadata": {},
   "outputs": [
    {
     "name": "stdout",
     "output_type": "stream",
     "text": [
      "實際應付金額96000.0\n"
     ]
    }
   ],
   "source": [
    "#輸入顧客購買金額，若金額在\n",
    "#100000元，打8折\n",
    "#50000元，打85折\n",
    "#30000元，打9折\n",
    "#10000元，打95折\n",
    "\n",
    "money = eval(input(\"請輸入購買金額\"))\n",
    "if money >= 100000:\n",
    "    Paymoney = money*0.8\n",
    "elif money >= 50000:\n",
    "    Paymoney = money*0.85\n",
    "elif money >= 30000:\n",
    "    Paymoney = money*0.9\n",
    "elif money >= 10000:\n",
    "    Paymoney = money*0.95\n",
    "else:\n",
    "    Paymoney = money\n",
    "\n",
    "print(f\"實際應付金額{Paymoney}\")\n",
    "# print(f\"實際應付金額{round(Paymoney)}\")   四捨五入小數點\n",
    "# print(f\"實際應付金額{int(Paymoney)}\")     無條件捨去小數點"
   ]
  },
  {
   "cell_type": "code",
   "execution_count": 5,
   "metadata": {},
   "outputs": [
    {
     "name": "stdout",
     "output_type": "stream",
     "text": [
      "最多可觀看等級:限制級\n"
     ]
    }
   ],
   "source": [
    "#限制級:18歲以上\n",
    "#輔導級:13-17歲\n",
    "#普遍級:12歲以下\n",
    "#沒輸入年齡則預設為普遍級\n",
    "\n",
    "age = input(\"請輸入年齡:\")\n",
    "if age == \"\":\n",
    "    grade = \"普遍級\"\n",
    "elif int(age) >= 18:\n",
    "    grade = \"限制級\"\n",
    "elif int(age) >= 13:\n",
    "    grade = \"輔導級\"\n",
    "else:\n",
    "    grade = \"普遍級\"\n",
    "print(f\"最多可觀看等級:{grade}\")\n",
    "\n",
    "#為了實現空集合輸出\"普遍級\"，一開始input保持字串形式，判斷時再轉成數字\n",
    "#此寫法有許多漏洞，不建議\n"
   ]
  },
  {
   "cell_type": "code",
   "execution_count": 7,
   "metadata": {},
   "outputs": [
    {
     "name": "stdout",
     "output_type": "stream",
     "text": [
      "最多可觀看等級:普遍級\n"
     ]
    }
   ],
   "source": [
    "#限制級:18歲以上\n",
    "#輔導級:13-17歲\n",
    "#普遍級:12歲以下\n",
    "#沒輸入年齡則預設為普遍級\n",
    "try:\n",
    "    age = eval(input(\"請輸入年齡:\"))\n",
    "    if age >= 18:\n",
    "        grade = \"限制級\"\n",
    "    elif age >= 13:\n",
    "        grade = \"輔導級\"\n",
    "    else:\n",
    "        grade = \"普遍級\"\n",
    "    print(f\"最多可觀看等級:{grade}\")\n",
    "except:\n",
    "    print(\"最多可觀看等級:普遍級\")\n"
   ]
  },
  {
   "cell_type": "code",
   "execution_count": 8,
   "metadata": {},
   "outputs": [
    {
     "name": "stdout",
     "output_type": "stream",
     "text": [
      "加分\n"
     ]
    }
   ],
   "source": [
    "add = input(\"請問是否加分:(y,n)\")\n",
    "if not add == \"n\":\n",
    "    print(\"加分\")\n",
    "else:\n",
    "    print(\"不加分\")"
   ]
  }
 ],
 "metadata": {
  "kernelspec": {
   "display_name": "Python 3",
   "language": "python",
   "name": "python3"
  },
  "language_info": {
   "codemirror_mode": {
    "name": "ipython",
    "version": 3
   },
   "file_extension": ".py",
   "mimetype": "text/x-python",
   "name": "python",
   "nbconvert_exporter": "python",
   "pygments_lexer": "ipython3",
   "version": "3.10.13"
  }
 },
 "nbformat": 4,
 "nbformat_minor": 2
}
