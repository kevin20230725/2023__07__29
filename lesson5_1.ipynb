{
 "cells": [
  {
   "cell_type": "code",
   "execution_count": 2,
   "metadata": {},
   "outputs": [
    {
     "name": "stdout",
     "output_type": "stream",
     "text": [
      "獎金等於0\n"
     ]
    }
   ],
   "source": [
    "chinese = eval(input(\"請輸入國文分數:\"))\n",
    "math = eval(input(\"請輸入數學分數:\"))\n",
    "bonus = 0\n",
    "if chinese == 100:\n",
    "  if math == 100:\n",
    "    bonus = 1000\n",
    "  else :\n",
    "    bonus = 500\n",
    "elif math == 100:\n",
    "  bonus = 500\n",
    "\n",
    "print(f\"獎金等於{bonus}\")"
   ]
  },
  {
   "cell_type": "code",
   "execution_count": 4,
   "metadata": {},
   "outputs": [
    {
     "name": "stdout",
     "output_type": "stream",
     "text": [
      "獎金等於1000\n"
     ]
    }
   ],
   "source": [
    "chinese = eval(input(\"請輸入國文分數:\"))\n",
    "math = eval(input(\"請輸入數學分數:\"))\n",
    "bonus = 0\n",
    "if chinese == 100 and math == 100:  #比較嚴格的條件寫在上方\n",
    "  bonus = 1000\n",
    "elif chinese == 100 or math == 100:\n",
    "  bonus = 500\n",
    "\n",
    "\n",
    "print(f\"獎金等於{bonus}\")"
   ]
  },
  {
   "cell_type": "code",
   "execution_count": null,
   "metadata": {},
   "outputs": [],
   "source": [
    "presure = eval(input(\"請輸入血壓值:\"))\n",
    "if presure >= 80 and presure <= 120:\n",
    "  print(\"血壓正常\")\n",
    "else:\n",
    "  print(\"血壓不正常\")"
   ]
  },
  {
   "cell_type": "code",
   "execution_count": null,
   "metadata": {},
   "outputs": [],
   "source": [
    "presure = eval(input(\"請輸入血壓值:\"))\n",
    "if presure < 80 or presure > 120:\n",
    "  print(\"血壓不正常\")\n",
    "else:\n",
    "  print(\"血壓正常\")"
   ]
  },
  {
   "cell_type": "code",
   "execution_count": null,
   "metadata": {},
   "outputs": [],
   "source": [
    "#BMI計算\n",
    "height = eval(input(\"請輸入身高:\"))\n",
    "weight = eval(input(\"請輸入體重:\"))\n",
    "bmi = weight/(height/100)**2\n",
    "\n",
    "if bmi < 18.5:\n",
    "  grade = \"過輕\"\n",
    "elif bmi < 24:\n",
    "  grade = \"正常\"\n",
    "elif bmi < 27:\n",
    "  grade = \"過重\"\n",
    "elif bmi < 30:\n",
    "  grade = \"輕度肥胖\"\n",
    "elif bmi < 35:\n",
    "  grade = \"中度肥胖\"\n",
    "else:\n",
    "  grade = \"種度肥胖\"\n",
    "\n",
    "print(f\"你的身高值是{height}公分\")\n",
    "print(f\"你的體重值是{weight}公斤\")\n",
    "print(f\"你的BMI值為{bmi}\")\n",
    "#print(f\"你的BMI值為{bmi:.2f}\")  #四捨五入小數後兩位\n",
    "print(f\"你的BMI值為{round(bmi,ndigits=2)}\")  #四捨五入小數後兩位\n",
    "print(f\"屬於{grade}\")"
   ]
  }
 ],
 "metadata": {
  "kernelspec": {
   "display_name": "Python 3",
   "language": "python",
   "name": "python3"
  },
  "language_info": {
   "codemirror_mode": {
    "name": "ipython",
    "version": 3
   },
   "file_extension": ".py",
   "mimetype": "text/x-python",
   "name": "python",
   "nbconvert_exporter": "python",
   "pygments_lexer": "ipython3",
   "version": "3.10.13"
  }
 },
 "nbformat": 4,
 "nbformat_minor": 2
}
