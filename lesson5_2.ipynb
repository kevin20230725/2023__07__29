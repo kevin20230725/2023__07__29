{
 "cells": [
  {
   "cell_type": "code",
   "execution_count": null,
   "metadata": {},
   "outputs": [],
   "source": [
    "for i in range(1,5):  #range(a,b) 為 a 到 b-1\n",
    "  print(i)"
   ]
  },
  {
   "cell_type": "code",
   "execution_count": null,
   "metadata": {},
   "outputs": [],
   "source": [
    "for i in range(1,10,2):  #range(a,b,c) 為 a 到 b-1，間距為c\n",
    "  print(i)"
   ]
  },
  {
   "cell_type": "code",
   "execution_count": null,
   "metadata": {},
   "outputs": [],
   "source": [
    "#1-100的加總\n",
    "total = 0\n",
    "for i in range(1,101):\n",
    "  total += i  #total = total + i\n",
    "print(f\"1加到100的值為{total}\")"
   ]
  },
  {
   "cell_type": "code",
   "execution_count": null,
   "metadata": {},
   "outputs": [],
   "source": [
    "end = eval(input(\"請輸入1加到多少的值:\"))\n",
    "total = 0\n",
    "for i in range(1,end+1):\n",
    "  total += i\n",
    "print(f\"從1加到{end}的值為{total}\")"
   ]
  },
  {
   "cell_type": "code",
   "execution_count": null,
   "metadata": {},
   "outputs": [],
   "source": [
    "start = eval(input(\"請輸入開始的數字:\"))\n",
    "end = eval(input(\"請輸入結束的數字:\"))\n",
    "total = 0\n",
    "for i in range(start,end+1):\n",
    "  total += i\n",
    "print(f\"從{start}加到{end}的總和是{total}\")"
   ]
  },
  {
   "cell_type": "code",
   "execution_count": null,
   "metadata": {},
   "outputs": [],
   "source": [
    "#1-100的偶數的加總\n",
    "#1-100的奇數的加總\n",
    "eventotal = 0\n",
    "oddtotal = 0\n",
    "for i in range(1,101):\n",
    "  if i%2 == 0 :\n",
    "    eventotal += i  #total = total + i\n",
    "  else :\n",
    "    oddtotal += i\n",
    "print(f\"1加到100的偶數總和為{eventotal}\")\n",
    "print(f\"1加到100的奇數總和為{oddtotal}\")"
   ]
  },
  {
   "cell_type": "code",
   "execution_count": null,
   "metadata": {},
   "outputs": [],
   "source": [
    "print(1,2,3,4,5,'a','b','d',end='.\\n',sep='-')  #end為結尾，預設是'\\n'==換行;\n",
    "#sep為間隔，預設為' '== 空一格"
   ]
  },
  {
   "cell_type": "code",
   "execution_count": null,
   "metadata": {},
   "outputs": [],
   "source": [
    "#巢狀迴圈\n",
    "for i in range(1,10):\n",
    "  print(f\"i={i}\")\n",
    "  for j in range(1,10):\n",
    "    print(f\"j={j}\",end=' ')  #每次迴圈以空一格的方式結束\n",
    "  print()  #預設為換行，結束迴圈後換行"
   ]
  },
  {
   "cell_type": "code",
   "execution_count": null,
   "metadata": {},
   "outputs": [],
   "source": [
    "#巢狀迴圈\n",
    "for i in range(1,10):\n",
    "  print(f\"i={i}\")\n",
    "  for j in range(1,10):\n",
    "    print(f\"{i}x{j}={i*j}\",end=' ')  #每次迴圈以空一格的方式結束\n",
    "  print()  #預設為換行，結束迴圈後換行"
   ]
  },
  {
   "cell_type": "code",
   "execution_count": null,
   "metadata": {},
   "outputs": [],
   "source": [
    "num = 10\n",
    "char = \"a\"\n",
    "print(f\"{num:5d}*\")  #留5格空間\n",
    "print(f\"{num:<5d}*\")  #留5格空間，靠左\n",
    "print(f\"{num:>5d}*\")  #留5格空間，靠右"
   ]
  },
  {
   "cell_type": "code",
   "execution_count": null,
   "metadata": {},
   "outputs": [],
   "source": [
    "#巢狀迴圈\n",
    "for i in range(1,10):\n",
    "  for j in range(1,10):\n",
    "    print(f\"{i:<2d}x{j:2d} ={i*j:2d}\",end='  ')  #每次迴圈以空一格的方式結束\n",
    "  print()  #預設為換行，結束迴圈後換行"
   ]
  },
  {
   "cell_type": "code",
   "execution_count": null,
   "metadata": {},
   "outputs": [],
   "source": [
    "is_prime = True\n",
    "try:\n",
    "  num = int(input(\"請輸入任意整數:\"))\n",
    "  for i in range(2,num):  #質數定義:除了1和自己，其餘不整除。range範圍剛好是2到自己前一位數，判斷若都不整除則為質數\n",
    "    if num % i == 0:\n",
    "      is_prime = False\n",
    "  if is_prime:\n",
    "    print(f\"{num}是質數\")\n",
    "  else : \n",
    "    print(f\"{num}不是質數\")\n",
    "except:\n",
    "  print(\"輸入格式錯誤，請輸入整數\")"
   ]
  },
  {
   "cell_type": "code",
   "execution_count": null,
   "metadata": {},
   "outputs": [],
   "source": [
    "#判斷找出1-100的質數\n",
    "for num in range(2,100+1):\n",
    "  is_prime = True\n",
    "  for i in range(2,num):\n",
    "    if num % i == 0 :\n",
    "      is_prime = False\n",
    "\n",
    "  if is_prime:    #經過迴圈判斷後，若is_prime仍為True則為質數，並輸出\n",
    "    print(f\"{num}\",end=' ')   #輸出後以空格結尾，並執行新的迴圈，直到結束\n"
   ]
  },
  {
   "cell_type": "code",
   "execution_count": null,
   "metadata": {},
   "outputs": [],
   "source": [
    "#判斷找出2到輸入範圍之間的質數\n",
    "end = int(input(\"請輸入終點值:\"))\n",
    "print(f\"1到{end}之間的質數有:\")\n",
    "for num in range(2,end+1):\n",
    "  is_prime = True\n",
    "  for i in range(2,num):\n",
    "    if num % i == 0 :\n",
    "      is_prime = False\n",
    "\n",
    "  if is_prime:    #經過迴圈判斷後，若is_prime仍為True則為質數，並輸出\n",
    "    print(f\"{num}\",end=' ')   #輸出後以空格結尾，並執行新的迴圈，直到結束\n"
   ]
  }
 ],
 "metadata": {
  "language_info": {
   "name": "python"
  }
 },
 "nbformat": 4,
 "nbformat_minor": 2
}
