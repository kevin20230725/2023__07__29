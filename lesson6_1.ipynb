{
 "cells": [
  {
   "cell_type": "code",
   "execution_count": null,
   "metadata": {},
   "outputs": [],
   "source": [
    "#執行5次，列印出1到5\n",
    "\n",
    "for i in range(1,6):    #range的範圍記得是開頭到終點減1\n",
    "  print(i)"
   ]
  },
  {
   "cell_type": "code",
   "execution_count": null,
   "metadata": {},
   "outputs": [],
   "source": [
    "#執行5次，列印出1到5\n",
    "#while\n",
    "count = 1\n",
    "while count <= 5:\n",
    "  print(count)\n",
    "  count+=1\n",
    "\n",
    "print(\"程式結束\")"
   ]
  },
  {
   "cell_type": "code",
   "execution_count": null,
   "metadata": {},
   "outputs": [],
   "source": [
    "#小明想存錢買機車，機車每輛30000元，他將每月存的錢輸入，當存款足夠時，提醒告知\n",
    "\n",
    "bank = 0\n",
    "month = 0\n",
    "try:\n",
    "  while bank < 30000:\n",
    "    month += 1\n",
    "    money = eval(input(f\"請輸入第{month}個月的存款金額\"))\n",
    "    bank += money\n",
    "    print(f\"您目前的財產:{bank}\")\n",
    "  print(f\"總共存了{month}個月，您的存款金額為:{bank}，已足夠買下一輛機車\")\n",
    "except:\n",
    "  print(\"輸入錯誤\")\n",
    "\n",
    "#月份該如何表示?\n",
    "# (month + 1)%12 會有0的問題，有其他辦法嗎\n",
    "\n"
   ]
  },
  {
   "cell_type": "code",
   "execution_count": null,
   "metadata": {},
   "outputs": [],
   "source": [
    "#break跳出迴圈\n",
    "count = 1\n",
    "while True:\n",
    "  print(count)\n",
    "  count+=1\n",
    "  if count > 5:\n",
    "    break\n",
    "\n",
    "\n"
   ]
  },
  {
   "cell_type": "code",
   "execution_count": null,
   "metadata": {},
   "outputs": [],
   "source": [
    "#break跳出迴圈\n",
    "bank = 0\n",
    "month = 0\n",
    "\n",
    "while True:\n",
    "  month += 1\n",
    "  money = eval(input(f\"請輸入第{month}個月的存款金額\"))\n",
    "  bank += money\n",
    "  print(f\"您目前的財產:{bank}\")\n",
    "  if bank >= 30000:\n",
    "    break\n",
    "print(f\"總共存了{month}個月，您的存款金額為:{bank}，已足夠買下一輛機車\")"
   ]
  },
  {
   "cell_type": "code",
   "execution_count": null,
   "metadata": {},
   "outputs": [],
   "source": [
    "#請設計一個程式，指加正偶數值，不加正奇數值，若輸入負數則結束程式\n",
    "total = 0\n",
    "num = 0\n",
    "while True:\n",
    "  num += 1\n",
    "  add = eval(input(f\"請輸入{num}個數值:\"))\n",
    "  if add < 0:\n",
    "    break\n",
    "  elif add % 2 == 1:\n",
    "    continue\n",
    "  else:\n",
    "    total += add \n",
    "  \n",
    "print(f\"總共輸入的次數是{num}次，所有正偶數加總的值是:{total}\")"
   ]
  },
  {
   "cell_type": "code",
   "execution_count": null,
   "metadata": {},
   "outputs": [],
   "source": []
  }
 ],
 "metadata": {
  "language_info": {
   "name": "python"
  }
 },
 "nbformat": 4,
 "nbformat_minor": 2
}
