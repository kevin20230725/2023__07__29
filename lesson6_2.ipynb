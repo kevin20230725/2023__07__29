{
 "cells": [
  {
   "cell_type": "code",
   "execution_count": null,
   "metadata": {},
   "outputs": [],
   "source": [
    "import random\n",
    "#0-4的亂數\n",
    "random.randrange(5)   \n",
    "#3-4的亂數\n",
    "random.randrange(3,5) \n",
    "#1-5的亂數，random.randint(a,b) == random.randrange(a,b+1)\n",
    "random.randint(1,5)"
   ]
  },
  {
   "cell_type": "code",
   "execution_count": null,
   "metadata": {},
   "outputs": [],
   "source": [
    "import random\n",
    "count = 0\n",
    "min = 1\n",
    "max = 10\n",
    "target = random.randrange(1,11)\n",
    "print(\"--------猜數字遊戲-------\\n\\n\")\n",
    "while True:\n",
    "  guess = eval(input(f\"請輸入{min}-{max}之間的數字:\"))\n",
    "  count += 1\n",
    "  if guess <= max and guess >= min:\n",
    "    if target == guess :\n",
    "      print(f\"答對了!!，答案是{target}，總共猜了{count}次\")\n",
    "      break\n",
    "    elif guess > target:\n",
    "      print(\"猜錯了再小一點\")\n",
    "    else:\n",
    "      print(\"猜錯了再大一點\")\n",
    "  else: \n",
    "    print(\"超出範圍\")\n",
    "print(\"遊戲結束\")"
   ]
  }
 ],
 "metadata": {
  "language_info": {
   "name": "python"
  }
 },
 "nbformat": 4,
 "nbformat_minor": 2
}
