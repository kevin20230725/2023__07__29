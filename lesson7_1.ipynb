{
 "cells": [
  {
   "cell_type": "code",
   "execution_count": 5,
   "metadata": {},
   "outputs": [
    {
     "name": "stdout",
     "output_type": "stream",
     "text": [
      "quack\n"
     ]
    }
   ],
   "source": [
    "#function，可簡化邏輯思考和主程式程式碼，且可重複呼叫\n",
    "\n",
    "#沒有參數，沒傳出值的function\n",
    "def make_a_sound():\n",
    "  print(\"quack\")\n",
    "\n",
    "make_a_sound()"
   ]
  },
  {
   "cell_type": "code",
   "execution_count": 3,
   "metadata": {},
   "outputs": [
    {
     "name": "stdout",
     "output_type": "stream",
     "text": [
      "3 + 8 = 11\n",
      "2 * 9 = 18\n"
     ]
    }
   ],
   "source": [
    "#製作相加function、相乘function\n",
    "def add(first,second):\n",
    "  print(f\"{first} + {second} = {first+second}\")\n",
    "\n",
    "def mul(first,second):\n",
    "  print(f\"{first} * {second} = {first*second}\")\n",
    "\n",
    "add(3,8)\n",
    "mul(2,9)"
   ]
  },
  {
   "cell_type": "code",
   "execution_count": 4,
   "metadata": {},
   "outputs": [
    {
     "name": "stdout",
     "output_type": "stream",
     "text": [
      "3 + 8 = 11\n",
      "3 * 8 = 24\n",
      "3 + 8 = 11\n",
      "3 * 8 = 24\n"
     ]
    }
   ],
   "source": [
    "#1.只用引述名稱呼叫時，可以不依照順序。引述名稱指function裡的參數\n",
    "add(first=3,second=8)\n",
    "mul(second=8,first=3)\n",
    "#2.第一個參數用引述值呼叫，第二個就不能用參數呼叫\n",
    "#add(first=3,8)\n",
    "#=======================================\n",
    "#3.前用參數，後用引述\n",
    "add(3,second=8)\n",
    "mul(3,second=8)\n"
   ]
  }
 ],
 "metadata": {
  "kernelspec": {
   "display_name": "Python 3",
   "language": "python",
   "name": "python3"
  },
  "language_info": {
   "codemirror_mode": {
    "name": "ipython",
    "version": 3
   },
   "file_extension": ".py",
   "mimetype": "text/x-python",
   "name": "python",
   "nbconvert_exporter": "python",
   "pygments_lexer": "ipython3",
   "version": "3.10.13"
  }
 },
 "nbformat": 4,
 "nbformat_minor": 2
}
