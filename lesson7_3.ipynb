{
 "cells": [
  {
   "cell_type": "code",
   "execution_count": 2,
   "metadata": {},
   "outputs": [
    {
     "name": "stdout",
     "output_type": "stream",
     "text": [
      "a b c d e f g "
     ]
    }
   ],
   "source": [
    "for word in \"abcdefg\":\n",
    "  print(word,end=\" \")"
   ]
  },
  {
   "cell_type": "code",
   "execution_count": 3,
   "metadata": {},
   "outputs": [],
   "source": [
    "#\\:拖曳字元\n",
    "word1 = \"It's my cat.\"\n",
    "word2 = 'It\\'s my cat.'  #單引號時'要打成\\'才不會出錯\n"
   ]
  },
  {
   "cell_type": "code",
   "execution_count": 4,
   "metadata": {},
   "outputs": [
    {
     "name": "stdout",
     "output_type": "stream",
     "text": [
      "Hello there!\n",
      "How are you\n",
      "I'm doing fine\n",
      "Hello there!\\nHow are you\\nI'm doing fine\n"
     ]
    },
    {
     "data": {
      "text/plain": [
       "\"Hello there!\\nHow are you\\nI'm doing fine\""
      ]
     },
     "metadata": {},
     "output_type": "display_data"
    }
   ],
   "source": [
    "print(\"Hello there!\\nHow are you\\nI'm doing fine\")\n",
    "#r是將字串還原輸出\n",
    "print(r\"Hello there!\\nHow are you\\nI'm doing fine\")\n",
    "#display是將內容物還原輸出\n",
    "display(\"Hello there!\\nHow are you\\nI'm doing fine\")"
   ]
  },
  {
   "cell_type": "code",
   "execution_count": 5,
   "metadata": {},
   "outputs": [
    {
     "data": {
      "text/plain": [
       "\"Hello there!How are you.I'm doing fine\""
      ]
     },
     "execution_count": 5,
     "metadata": {},
     "output_type": "execute_result"
    }
   ],
   "source": [
    "#單行文字\n",
    "sentens = \"Hello there!\\\n",
    "How are you.\\\n",
    "I'm doing fine\"\n",
    "\n",
    "sentens"
   ]
  },
  {
   "cell_type": "code",
   "execution_count": 6,
   "metadata": {},
   "outputs": [
    {
     "name": "stdout",
     "output_type": "stream",
     "text": [
      "Hello there!\n",
      "How are you.\n",
      "I'm doing fine\n"
     ]
    }
   ],
   "source": [
    "#多行文字\n",
    "sentens = '''Hello there!\n",
    "How are you.\n",
    "I'm doing fine'''\n",
    "\n",
    "print(sentens)"
   ]
  },
  {
   "cell_type": "code",
   "execution_count": 7,
   "metadata": {},
   "outputs": [
    {
     "name": "stdout",
     "output_type": "stream",
     "text": [
      "Help on function add in module __main__:\n",
      "\n",
      "add(first: int | float, second: int | float) -> int | float\n",
      "    加總的運算\n",
      "    \n",
      "    兩個參數的相加\n",
      "\n"
     ]
    }
   ],
   "source": [
    "#多行文字可以當作function的說明，但一定要放在最前面\n",
    "def add(first:int|float ,second:int|float) -> int|float:\n",
    "  '''\n",
    "  加總的運算\n",
    "\n",
    "  兩個參數的相加\n",
    "  '''\n",
    "  return first + second\n",
    "\n",
    "\n",
    "help(add)   #說明"
   ]
  },
  {
   "cell_type": "code",
   "execution_count": 8,
   "metadata": {},
   "outputs": [
    {
     "data": {
      "text/plain": [
       "26"
      ]
     },
     "execution_count": 8,
     "metadata": {},
     "output_type": "execute_result"
    }
   ],
   "source": [
    "letter = \"abcdefghijklmnopqrstuvwxyz\"\n",
    "len(letter)"
   ]
  },
  {
   "cell_type": "code",
   "execution_count": 9,
   "metadata": {},
   "outputs": [
    {
     "data": {
      "text/plain": [
       "3"
      ]
     },
     "execution_count": 9,
     "metadata": {},
     "output_type": "execute_result"
    }
   ],
   "source": [
    "name = \"甲乙丙\"\n",
    "len(name)"
   ]
  },
  {
   "cell_type": "code",
   "execution_count": 10,
   "metadata": {},
   "outputs": [
    {
     "name": "stdout",
     "output_type": "stream",
     "text": [
      "a\n",
      "z\n"
     ]
    }
   ],
   "source": [
    "letter = \"abcdefghijklmnopqrstuvwxyz\"\n",
    "#subscript\n",
    "print(letter[0])    #輸出字串中索引為0的字\n",
    "print(letter[(len(letter)-1)]) "
   ]
  },
  {
   "cell_type": "code",
   "execution_count": 11,
   "metadata": {},
   "outputs": [
    {
     "name": "stdout",
     "output_type": "stream",
     "text": [
      "H\n",
      "d\n",
      "Hello\n",
      "worl\n",
      "Hello\n",
      "world\n"
     ]
    }
   ],
   "source": [
    "#字串切割\n",
    "greeting = \"Hello world\"\n",
    "print(greeting[0])\n",
    "print(greeting[-1])\n",
    "print(greeting[0:5])    #0-4的字串\n",
    "print(greeting[-5:-1])   #倒數第5個到倒數第2個\n",
    "print(greeting[:5])     #前5個\n",
    "print(greeting[-5:])    #後5個"
   ]
  }
 ],
 "metadata": {
  "kernelspec": {
   "display_name": "Python 3",
   "language": "python",
   "name": "python3"
  },
  "language_info": {
   "codemirror_mode": {
    "name": "ipython",
    "version": 3
   },
   "file_extension": ".py",
   "mimetype": "text/x-python",
   "name": "python",
   "nbconvert_exporter": "python",
   "pygments_lexer": "ipython3",
   "version": "3.10.13"
  }
 },
 "nbformat": 4,
 "nbformat_minor": 2
}
