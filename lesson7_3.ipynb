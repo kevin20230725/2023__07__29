{
 "cells": [
  {
   "cell_type": "code",
   "execution_count": null,
   "metadata": {},
   "outputs": [],
   "source": [
    "for word in \"abcdefg\":\n",
    "  print(word,end=\" \")"
   ]
  },
  {
   "cell_type": "code",
   "execution_count": null,
   "metadata": {},
   "outputs": [],
   "source": [
    "#\\:拖曳字元\n",
    "word1 = \"It's my cat.\"\n",
    "word2 = 'It\\'s my cat.'  #單引號時'要打成\\'才不會出錯\n"
   ]
  },
  {
   "cell_type": "code",
   "execution_count": 1,
   "metadata": {},
   "outputs": [
    {
     "name": "stdout",
     "output_type": "stream",
     "text": [
      "Hello there!\n",
      "How are you\n",
      "I'm doing fine\n",
      "Hello there!\\nHow are you\\nI'm doing fine\n"
     ]
    },
    {
     "data": {
      "text/plain": [
       "\"Hello there!\\nHow are you\\nI'm doing fine\""
      ]
     },
     "metadata": {},
     "output_type": "display_data"
    }
   ],
   "source": [
    "print(\"Hello there!\\nHow are you\\nI'm doing fine\")\n",
    "#r是將字串還原輸出\n",
    "print(r\"Hello there!\\nHow are you\\nI'm doing fine\")\n",
    "#display是將內容物還原輸出\n",
    "display(\"Hello there!\\nHow are you\\nI'm doing fine\")"
   ]
  },
  {
   "cell_type": "code",
   "execution_count": null,
   "metadata": {},
   "outputs": [],
   "source": [
    "#單行文字\n",
    "sentens = \"Hello there!\\\n",
    "How are you.\\\n",
    "I'm doing fine\"\n",
    "\n",
    "sentens"
   ]
  },
  {
   "cell_type": "code",
   "execution_count": null,
   "metadata": {},
   "outputs": [],
   "source": [
    "#多行文字\n",
    "sentens = '''Hello there!\n",
    "How are you.\n",
    "I'm doing fine'''\n",
    "\n",
    "print(sentens)"
   ]
  },
  {
   "cell_type": "code",
   "execution_count": null,
   "metadata": {},
   "outputs": [],
   "source": [
    "#多行文字可以當作function的說明，但一定要放在最前面\n",
    "def add(first:int|float ,second:int|float) -> int|float:\n",
    "  '''\n",
    "  加總的運算\n",
    "\n",
    "  兩個參數的相加\n",
    "  '''\n",
    "  return first + second\n",
    "\n",
    "\n",
    "help(add)   #說明"
   ]
  },
  {
   "cell_type": "code",
   "execution_count": null,
   "metadata": {},
   "outputs": [],
   "source": [
    "letter = \"abcdefghijklmnopqrstuvwxyz\"\n",
    "len(letter)"
   ]
  },
  {
   "cell_type": "code",
   "execution_count": null,
   "metadata": {},
   "outputs": [],
   "source": [
    "name = \"甲乙丙\"\n",
    "len(name)"
   ]
  },
  {
   "cell_type": "code",
   "execution_count": null,
   "metadata": {},
   "outputs": [],
   "source": [
    "letter = \"abcdefghijklmnopqrstuvwxyz\"\n",
    "#subscript\n",
    "print(letter[0])    #輸出字串中索引為0的字\n",
    "print(letter[(len(letter)-1)]) "
   ]
  },
  {
   "cell_type": "code",
   "execution_count": null,
   "metadata": {},
   "outputs": [],
   "source": [
    "#字串切割\n",
    "greeting = \"Hello world\"\n",
    "print(greeting[0])\n",
    "print(greeting[-1])\n",
    "print(greeting[0:5])    #0-4的字串\n",
    "print(greeting[-5:-1])   #倒數第5個到倒數第2個\n",
    "print(greeting[:5])     #前5個\n",
    "print(greeting[-5:])    #後5個"
   ]
  }
 ],
 "metadata": {
  "kernelspec": {
   "display_name": "Python 3",
   "language": "python",
   "name": "python3"
  },
  "language_info": {
   "codemirror_mode": {
    "name": "ipython",
    "version": 3
   },
   "file_extension": ".py",
   "mimetype": "text/x-python",
   "name": "python",
   "nbconvert_exporter": "python",
   "pygments_lexer": "ipython3",
   "version": "3.10.13"
  }
 },
 "nbformat": 4,
 "nbformat_minor": 2
}
