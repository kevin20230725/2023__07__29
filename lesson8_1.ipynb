{
 "cells": [
  {
   "cell_type": "code",
   "execution_count": null,
   "metadata": {},
   "outputs": [],
   "source": [
    "city = \"taipei\"\n",
    "display(city)\n",
    "city = city.capitalize()  #str實體的方法,capitalize() \n",
    "city"
   ]
  },
  {
   "cell_type": "code",
   "execution_count": null,
   "metadata": {},
   "outputs": [],
   "source": [
    "#str.replace()\n",
    "name =\"Henny\"\n",
    "name = name.replace(\"H\",\"P\")\n",
    "name"
   ]
  },
  {
   "cell_type": "code",
   "execution_count": null,
   "metadata": {},
   "outputs": [],
   "source": [
    "name =\"Henny\"\n",
    "name = \"P\"+name[1:]\n",
    "name"
   ]
  },
  {
   "cell_type": "code",
   "execution_count": null,
   "metadata": {},
   "outputs": [],
   "source": [
    "#str.find()，找到依樣的字的開頭的位置\n",
    "str1 = \"this is Python\"\n",
    "a = str1.find(\"Python\")\n",
    "#未找到則回傳-1\n",
    "b = str1.find(\"Pythoa\")\n",
    "display(a)\n",
    "display(b)"
   ]
  },
  {
   "cell_type": "code",
   "execution_count": null,
   "metadata": {},
   "outputs": [],
   "source": [
    "#連結\n",
    "#str.join()\n",
    "str1 = \"-\"\n",
    "str1.join(\"abcd\")"
   ]
  },
  {
   "cell_type": "code",
   "execution_count": null,
   "metadata": {},
   "outputs": [],
   "source": [
    "#分割，分割的字串型態會變成list\n",
    "#str.split()\n",
    "str2 = \"python,java,c++,kevin\"\n",
    "new = str2.split(sep=\",\")\n",
    "display(new)\n",
    "type(new)"
   ]
  },
  {
   "cell_type": "code",
   "execution_count": null,
   "metadata": {},
   "outputs": [],
   "source": [
    "age = input(\"請輸入年齡:\")\n",
    "if not age.isdigit():\n",
    "  print(\"輸入錯誤\")\n",
    "else:\n",
    "  print(f\"你的年齡是{age}\")"
   ]
  },
  {
   "cell_type": "code",
   "execution_count": 8,
   "metadata": {},
   "outputs": [
    {
     "data": {
      "text/plain": [
       "'               hello'"
      ]
     },
     "metadata": {},
     "output_type": "display_data"
    },
    {
     "data": {
      "text/plain": [
       "'hello               '"
      ]
     },
     "metadata": {},
     "output_type": "display_data"
    },
    {
     "data": {
      "text/plain": [
       "'-------hello--------'"
      ]
     },
     "metadata": {},
     "output_type": "display_data"
    }
   ],
   "source": [
    "#空出20格空間存放字串\n",
    "display('hello'.rjust(20))  #靠右\n",
    "display('hello'.ljust(20))  #靠左\n",
    "display('hello'.center(20,'-'))   #置中，且空格以\"-\"代替"
   ]
  },
  {
   "cell_type": "code",
   "execution_count": 7,
   "metadata": {},
   "outputs": [
    {
     "name": "stdout",
     "output_type": "stream",
     "text": [
      "---------早餐---------\n",
      "三明治............   25\n",
      "蛋餅.............   25\n"
     ]
    }
   ],
   "source": [
    "print(\"早餐\".center(20,\"-\"))\n",
    "print('三明治'.ljust(15,'.')+\"25\".rjust(5))\n",
    "print('蛋餅'.ljust(15,'.')+\"25\".rjust(5))"
   ]
  },
  {
   "cell_type": "code",
   "execution_count": 6,
   "metadata": {},
   "outputs": [
    {
     "name": "stdout",
     "output_type": "stream",
     "text": [
      "您的手機號是:0999-999-999\n"
     ]
    }
   ],
   "source": [
    "#檢查台灣手機號輸入格式(xxxx-xxx-xxx)\n",
    "\n",
    "def twphone(text:str)->bool:\n",
    "  if len(phone_num)!=12:\n",
    "    return False\n",
    "  elif not text[:4].isdigit:\n",
    "    return False\n",
    "  elif not text[4]==\"-\":\n",
    "    return False\n",
    "  elif not text[5:8].isdigit:\n",
    "    return False\n",
    "  elif not text[8]==\"-\":\n",
    "    return False\n",
    "  elif not text[-3:].isdigit:\n",
    "    return False\n",
    "  return True\n",
    "\n",
    "phone_num=input(\"請輸入手機號(xxxx-xxx-xxx):\")\n",
    "if twphone(phone_num):\n",
    "  print(f\"您的手機號是:{phone_num}\")\n",
    "else:\n",
    "  print(f\"您的手機號是:{phone_num},格式有誤\")\n"
   ]
  },
  {
   "cell_type": "code",
   "execution_count": 4,
   "metadata": {},
   "outputs": [
    {
     "name": "stdout",
     "output_type": "stream",
     "text": [
      "您的手機號是:0999-999-999\n"
     ]
    }
   ],
   "source": [
    "#檢查台灣手機號輸入格式(xxxx-xxx-xxx)\n",
    "#利用re正規則表達式\n",
    "import re\n",
    "def twphone(text:str) -> bool:\n",
    "  phoneNumRegex = re.compile(r\"\\d\\d\\d\\d-\\d\\d\\d-\\d\\d\\d\")   # re.compile 樣板\n",
    "  if phoneNumRegex.match(text) is None:   #.match == 比對，re實體的實體方法。。None前面是用is，不是==\n",
    "    return False   \n",
    "  elif len(text)!=12:\n",
    "    return False\n",
    "  else:\n",
    "    return True\n",
    "\n",
    "phone_num=input(\"請輸入手機號(xxxx-xxx-xxx):\")\n",
    "if twphone(phone_num):\n",
    "  print(f\"您的手機號是:{phone_num}\")\n",
    "else:\n",
    "  print(f\"您的手機號是:{phone_num},格式有誤\")"
   ]
  },
  {
   "cell_type": "code",
   "execution_count": 2,
   "metadata": {},
   "outputs": [
    {
     "name": "stdout",
     "output_type": "stream",
     "text": [
      "您的email是:ask,格式有誤\n"
     ]
    }
   ],
   "source": [
    "#檢查email輸入格式(xxxx-xxx-xxx)\n",
    "#^\\w+((-\\w+)|(\\.\\w+))*\\@[A-Za-z0-9]+((\\.|-)[A-Za-z0-9]+)*\\.[A-Za-z]+$\n",
    "#email正規表達式\n",
    "import re\n",
    "def isemail(text:str) -> bool:\n",
    "  emailNumRegex = re.compile(r\"^\\w+((-\\w+)|(\\.\\w+))*\\@[A-Za-z0-9]+((\\.|-)[A-Za-z0-9]+)*\\.[A-Za-z]+$\")   # re.compile 樣板\n",
    "  if emailNumRegex.match(text) is None:   #.match == 比對，re實體的實體方法。。None前面是用is，不是==\n",
    "    return False   \n",
    "  else:\n",
    "    return True\n",
    "\n",
    "email=input(\"請輸入email:\")\n",
    "if isemail(email):\n",
    "  print(f\"您的email是:{email}\")\n",
    "else:\n",
    "  print(f\"您的email是:{email},格式有誤\")"
   ]
  }
 ],
 "metadata": {
  "kernelspec": {
   "display_name": "Python 3",
   "language": "python",
   "name": "python3"
  },
  "language_info": {
   "codemirror_mode": {
    "name": "ipython",
    "version": 3
   },
   "file_extension": ".py",
   "mimetype": "text/x-python",
   "name": "python",
   "nbconvert_exporter": "python",
   "pygments_lexer": "ipython3",
   "version": "3.10.13"
  }
 },
 "nbformat": 4,
 "nbformat_minor": 2
}
